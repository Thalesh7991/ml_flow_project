{
 "cells": [
  {
   "cell_type": "markdown",
   "metadata": {},
   "source": [
    "# Imports"
   ]
  },
  {
   "cell_type": "code",
   "execution_count": 14,
   "metadata": {},
   "outputs": [],
   "source": [
    "import sys\n",
    "import pandas as pd\n",
    "import joblib\n",
    "sys.path.insert(0, '../src/')\n",
    "\n",
    "from sklearn.pipeline import Pipeline\n",
    "from sklearn.linear_model import LogisticRegression\n",
    "from feature_engine.imputation import MeanMedianImputer\n",
    "from feature_engine.wrappers import SklearnTransformerWrapper\n",
    "from sklearn.preprocessing import RobustScaler, StandardScaler\n",
    "from feature_engine.discretisation import EqualFrequencyDiscretiser, EqualWidthDiscretiser\n",
    "\n",
    "\n",
    "from data.data_load import DataLoad\n",
    "from data.data_validation import DataValidation\n",
    "from data.data_transformation import DataTransformation\n",
    "from data.data_preprocess import DataPreprocess\n",
    "from utils.utils import load_config_file\n",
    "from train.train_model import TrainModel\n",
    "from evaluation.classifiers_eval import ModelEvaluation"
   ]
  },
  {
   "cell_type": "markdown",
   "metadata": {},
   "source": [
    "# 1.0 Data Load"
   ]
  },
  {
   "cell_type": "code",
   "execution_count": 15,
   "metadata": {},
   "outputs": [
    {
     "name": "stdout",
     "output_type": "stream",
     "text": [
      "2023-12-06 10:47:06 [info     ] Iniciando o carregamento\n"
     ]
    }
   ],
   "source": [
    "dl = DataLoad()\n",
    "df = dl.load_data('train_dataset_name')"
   ]
  },
  {
   "cell_type": "markdown",
   "metadata": {},
   "source": [
    "# 2.0 Data Validation"
   ]
  },
  {
   "cell_type": "code",
   "execution_count": 16,
   "metadata": {},
   "outputs": [
    {
     "name": "stdout",
     "output_type": "stream",
     "text": [
      "2023-12-06 10:47:06 [info     ] Validação iniciou..\n",
      "2023-12-06 10:47:06 [info     ] Validation columns passed...\n",
      "2023-12-06 10:47:06 [info     ] Validacao com sucesso.\n"
     ]
    }
   ],
   "source": [
    "dv = DataValidation()\n",
    "is_valid = dv.run(df)"
   ]
  },
  {
   "cell_type": "markdown",
   "metadata": {},
   "source": [
    "# 3.0 Data Transformation"
   ]
  },
  {
   "cell_type": "code",
   "execution_count": 17,
   "metadata": {},
   "outputs": [],
   "source": [
    "dt = DataTransformation(df)"
   ]
  },
  {
   "cell_type": "code",
   "execution_count": 18,
   "metadata": {},
   "outputs": [],
   "source": [
    "X_train, X_valid, y_train, y_valid = dt.train_test_split()"
   ]
  },
  {
   "cell_type": "markdown",
   "metadata": {},
   "source": [
    "# 4.0 Experimentations"
   ]
  },
  {
   "cell_type": "code",
   "execution_count": 19,
   "metadata": {},
   "outputs": [],
   "source": [
    "import mlflow\n",
    "from mlflow.tracking import MlflowClient"
   ]
  },
  {
   "cell_type": "code",
   "execution_count": 20,
   "metadata": {},
   "outputs": [
    {
     "data": {
      "text/plain": [
       "<Experiment: artifact_location='mlflow-artifacts:/1', creation_time=1701870074069, experiment_id='1', last_update_time=1701870074069, lifecycle_stage='active', name='prob_loan', tags={}>"
      ]
     },
     "execution_count": 20,
     "metadata": {},
     "output_type": "execute_result"
    }
   ],
   "source": [
    "mlflow.set_tracking_uri('http://127.0.0.1:5000')\n",
    "mlflow.set_experiment('prob_loan')"
   ]
  },
  {
   "cell_type": "code",
   "execution_count": 23,
   "metadata": {},
   "outputs": [
    {
     "name": "stdout",
     "output_type": "stream",
     "text": [
      "2023-12-06 10:53:42 [info     ] Iniciando o processamento\n"
     ]
    },
    {
     "name": "stdout",
     "output_type": "stream",
     "text": [
      "2023-12-06 10:53:43 [info     ] Iniciando a Transformação\n",
      "2023-12-06 10:53:43 [info     ] Iniciando a Transformação\n",
      "2023-12-06 10:53:43 [info     ] Iniciando a Cross Validation...\n"
     ]
    }
   ],
   "source": [
    "with mlflow.start_run(run_name='baseline'):\n",
    "    mlflow.set_tag('model_name', 'lr_baseline')\n",
    "\n",
    "    # preprocessar os dados\n",
    "    pipe = Pipeline([\n",
    "        ('imputer', MeanMedianImputer(variables=load_config_file().get('vars_imputer'))),\n",
    "        ('scaler', SklearnTransformerWrapper(StandardScaler()))\n",
    "    ])\n",
    "\n",
    "    preprocessador = DataPreprocess(pipe)\n",
    "    preprocessador.train(X_train)\n",
    "\n",
    "    X_train_processed = preprocessador.transform(X_train)\n",
    "    X_valid_processed = preprocessador.transform(X_valid)\n",
    "    joblib.dump(preprocessador, '../models/preprocess.joblib')\n",
    "\n",
    "    # logar um artefato (preprocessador)\n",
    "    mlflow.log_artifact('../models/preprocess.joblib')\n",
    "\n",
    "    # logar os parametros do preprocessador\n",
    "    mlflow.log_params(params={'imputer': pipe['imputer'], 'scaler': pipe['scaler']})\n",
    "\n",
    "    # Inicia o experimento com cross validation\n",
    "\n",
    "    model = LogisticRegression()\n",
    "    model_eval = ModelEvaluation(model, X_train_processed, y_train, n_splits=5)\n",
    "\n",
    "    roc_auc_scores = model_eval.cross_val_evaluate()\n",
    "\n",
    "    # logar o resultado da performance\n",
    "    mlflow.log_metric('train_roc_auc', roc_auc_scores.mean())\n",
    "\n",
    "    # treinar modelo\n",
    "    model.fit(X_train_processed, y_train)\n",
    "\n",
    "    # salvar as metricas de validacao\n",
    "    y_val_preds = model_eval.model.predict_proba(X_valid_processed)[:,1]\n",
    "    val_roc_auc = model_eval.evaluate_predictions(y_valid, y_val_preds)\n",
    "\n",
    "    mlflow.log_metric('valid_roc_auc', val_roc_auc)\n",
    "\n",
    "    # logar o modelo\n",
    "    mlflow.sklearn.log_model(model, 'lr_model', pyfunc_predict_fn='predict_proba')\n",
    "\n",
    "    mlflow.end_run()\n",
    "\n",
    "\n",
    "\n",
    "\n",
    "    "
   ]
  },
  {
   "cell_type": "code",
   "execution_count": null,
   "metadata": {},
   "outputs": [],
   "source": []
  }
 ],
 "metadata": {
  "kernelspec": {
   "display_name": "evn",
   "language": "python",
   "name": "python3"
  },
  "language_info": {
   "codemirror_mode": {
    "name": "ipython",
    "version": 3
   },
   "file_extension": ".py",
   "mimetype": "text/x-python",
   "name": "python",
   "nbconvert_exporter": "python",
   "pygments_lexer": "ipython3",
   "version": "3.11.4"
  }
 },
 "nbformat": 4,
 "nbformat_minor": 2
}
