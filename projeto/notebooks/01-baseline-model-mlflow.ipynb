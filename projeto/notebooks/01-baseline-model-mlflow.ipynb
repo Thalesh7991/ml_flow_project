{
 "cells": [
  {
   "cell_type": "markdown",
   "metadata": {},
   "source": [
    "# Imports"
   ]
  },
  {
   "cell_type": "code",
   "execution_count": 1,
   "metadata": {},
   "outputs": [],
   "source": [
    "import sys\n",
    "import pandas as pd\n",
    "import joblib\n",
    "sys.path.insert(0, '../src/')\n",
    "\n",
    "from sklearn.pipeline import Pipeline\n",
    "from sklearn.linear_model import LogisticRegression\n",
    "from feature_engine.imputation import MeanMedianImputer\n",
    "from feature_engine.wrappers import SklearnTransformerWrapper\n",
    "from sklearn.preprocessing import RobustScaler, StandardScaler\n",
    "from feature_engine.discretisation import EqualFrequencyDiscretiser, EqualWidthDiscretiser\n",
    "\n",
    "\n",
    "from data.data_load import DataLoad\n",
    "from data.data_validation import DataValidation\n",
    "from data.data_transformation import DataTransformation\n",
    "from data.data_preprocess import DataPreprocess\n",
    "from utils.utils import load_config_file\n",
    "from train.train_model import TrainModel\n",
    "from evaluation.classifiers_eval import ModelEvaluation"
   ]
  },
  {
   "cell_type": "markdown",
   "metadata": {},
   "source": [
    "# 1.0 Data Load"
   ]
  },
  {
   "cell_type": "code",
   "execution_count": 2,
   "metadata": {},
   "outputs": [
    {
     "name": "stdout",
     "output_type": "stream",
     "text": [
      "2023-12-09 07:10:03 [info     ] Iniciando o carregamento\n"
     ]
    }
   ],
   "source": [
    "dl = DataLoad()\n",
    "df = dl.load_data('train_dataset_name')"
   ]
  },
  {
   "cell_type": "markdown",
   "metadata": {},
   "source": [
    "# 2.0 Data Validation"
   ]
  },
  {
   "cell_type": "code",
   "execution_count": 3,
   "metadata": {},
   "outputs": [
    {
     "name": "stdout",
     "output_type": "stream",
     "text": [
      "2023-12-09 07:10:03 [info     ] Validação iniciou..\n",
      "2023-12-09 07:10:03 [info     ] Validation columns passed...\n",
      "2023-12-09 07:10:03 [info     ] Validacao com sucesso.\n"
     ]
    }
   ],
   "source": [
    "dv = DataValidation()\n",
    "is_valid = dv.run(df)"
   ]
  },
  {
   "cell_type": "markdown",
   "metadata": {},
   "source": [
    "# 3.0 Data Transformation"
   ]
  },
  {
   "cell_type": "code",
   "execution_count": 4,
   "metadata": {},
   "outputs": [],
   "source": [
    "dt = DataTransformation(df)"
   ]
  },
  {
   "cell_type": "code",
   "execution_count": 5,
   "metadata": {},
   "outputs": [],
   "source": [
    "X_train, X_valid, y_train, y_valid = dt.train_test_split()"
   ]
  },
  {
   "cell_type": "markdown",
   "metadata": {},
   "source": [
    "# 4.0 Experimentations"
   ]
  },
  {
   "cell_type": "code",
   "execution_count": 6,
   "metadata": {},
   "outputs": [
    {
     "name": "stderr",
     "output_type": "stream",
     "text": [
      "c:\\Users\\thale\\Documents\\Projetos_DS\\ml_flow\\evn\\Lib\\site-packages\\pydantic\\_internal\\_fields.py:149: UserWarning: Field \"model_server_url\" has conflict with protected namespace \"model_\".\n",
      "\n",
      "You may be able to resolve this warning by setting `model_config['protected_namespaces'] = ()`.\n",
      "  warnings.warn(\n",
      "c:\\Users\\thale\\Documents\\Projetos_DS\\ml_flow\\evn\\Lib\\site-packages\\pydantic\\_internal\\_config.py:318: UserWarning: Valid config keys have changed in V2:\n",
      "* 'schema_extra' has been renamed to 'json_schema_extra'\n",
      "  warnings.warn(message, UserWarning)\n"
     ]
    }
   ],
   "source": [
    "import mlflow\n",
    "from mlflow.tracking import MlflowClient"
   ]
  },
  {
   "cell_type": "code",
   "execution_count": 7,
   "metadata": {},
   "outputs": [
    {
     "name": "stderr",
     "output_type": "stream",
     "text": [
      "2023/12/09 07:10:04 INFO mlflow.tracking.fluent: Experiment with name 'prob_loan' does not exist. Creating a new experiment.\n"
     ]
    },
    {
     "data": {
      "text/plain": [
       "<Experiment: artifact_location='mlflow-artifacts:/1', creation_time=1702116604955, experiment_id='1', last_update_time=1702116604955, lifecycle_stage='active', name='prob_loan', tags={}>"
      ]
     },
     "execution_count": 7,
     "metadata": {},
     "output_type": "execute_result"
    }
   ],
   "source": [
    "mlflow.set_tracking_uri('http://127.0.0.1:5000')\n",
    "mlflow.set_experiment('prob_loan')"
   ]
  },
  {
   "cell_type": "code",
   "execution_count": 9,
   "metadata": {},
   "outputs": [
    {
     "name": "stdout",
     "output_type": "stream",
     "text": [
      "2023-12-09 07:11:13 [info     ] Iniciando o processamento\n",
      "2023-12-09 07:11:13 [info     ] Iniciando a Transformação\n",
      "2023-12-09 07:11:13 [info     ] Iniciando a Transformação\n",
      "2023-12-09 07:11:13 [info     ] Iniciando a Cross Validation...\n"
     ]
    },
    {
     "name": "stderr",
     "output_type": "stream",
     "text": [
      "c:\\Users\\thale\\Documents\\Projetos_DS\\ml_flow\\evn\\Lib\\site-packages\\_distutils_hack\\__init__.py:18: UserWarning: Distutils was imported before Setuptools, but importing Setuptools also replaces the `distutils` module in `sys.modules`. This may lead to undesirable behaviors or errors. To avoid these issues, avoid using distutils directly, ensure that setuptools is installed in the traditional way (e.g. not an editable install), and/or make sure that setuptools is always imported before distutils.\n",
      "  warnings.warn(\n",
      "c:\\Users\\thale\\Documents\\Projetos_DS\\ml_flow\\evn\\Lib\\site-packages\\_distutils_hack\\__init__.py:33: UserWarning: Setuptools is replacing distutils.\n",
      "  warnings.warn(\"Setuptools is replacing distutils.\")\n"
     ]
    }
   ],
   "source": [
    "with mlflow.start_run(run_name='baseline'):\n",
    "    mlflow.set_tag('model_name', 'lr_baseline')\n",
    "\n",
    "    # preprocessar os dados\n",
    "    pipe = Pipeline([\n",
    "        ('imputer', MeanMedianImputer(variables=load_config_file().get('vars_imputer'))),\n",
    "        ('scaler', SklearnTransformerWrapper(StandardScaler()))\n",
    "    ])\n",
    "\n",
    "    preprocessador = DataPreprocess(pipe)\n",
    "    preprocessador.train(X_train)\n",
    "\n",
    "    X_train_processed = preprocessador.transform(X_train)\n",
    "    X_valid_processed = preprocessador.transform(X_valid)\n",
    "    joblib.dump(preprocessador, '../models/preprocess.joblib')\n",
    "\n",
    "    # logar um artefato (preprocessador)\n",
    "    mlflow.log_artifact('../models/preprocess.joblib')\n",
    "\n",
    "    # logar os parametros do preprocessador\n",
    "    mlflow.log_params(params={'imputer': pipe['imputer'], 'scaler': pipe['scaler']})\n",
    "\n",
    "    # Inicia o experimento com cross validation\n",
    "    model = LogisticRegression()\n",
    "    model_eval = ModelEvaluation(model, X_train_processed, y_train, n_splits=5)\n",
    "\n",
    "    roc_auc_scores = model_eval.cross_val_evaluate()\n",
    "\n",
    "    # logar o resultado da performance\n",
    "    mlflow.log_metric('train_roc_auc', roc_auc_scores.mean())\n",
    "\n",
    "    # treinar modelo\n",
    "    model.fit(X_train_processed, y_train)\n",
    "\n",
    "    # salvar as metricas de validacao\n",
    "    y_val_preds = model_eval.model.predict_proba(X_valid_processed)[:,1]\n",
    "    val_roc_auc = model_eval.evaluate_predictions(y_valid, y_val_preds)\n",
    "\n",
    "    mlflow.log_metric('valid_roc_auc', val_roc_auc)\n",
    "\n",
    "    # logar o modelo\n",
    "    mlflow.sklearn.log_model(model, 'lr_model', pyfunc_predict_fn='predict_proba')\n",
    "\n",
    "    mlflow.end_run()\n"
   ]
  },
  {
   "cell_type": "markdown",
   "metadata": {},
   "source": [
    "## 4.1 Experimento 01"
   ]
  },
  {
   "cell_type": "code",
   "execution_count": 10,
   "metadata": {},
   "outputs": [],
   "source": [
    "from mlflow.models import MetricThreshold\n",
    "from sklearn.dummy import DummyClassifier\n",
    "from mlflow.models import infer_signature"
   ]
  },
  {
   "cell_type": "code",
   "execution_count": 12,
   "metadata": {},
   "outputs": [
    {
     "name": "stdout",
     "output_type": "stream",
     "text": [
      "2023-12-09 07:27:47 [info     ] Iniciando o processamento\n",
      "2023-12-09 07:27:47 [info     ] Iniciando a Transformação\n",
      "2023-12-09 07:27:47 [info     ] Iniciando a Transformação\n",
      "2023-12-09 07:27:47 [info     ] Iniciando a Cross Validation...\n"
     ]
    },
    {
     "name": "stderr",
     "output_type": "stream",
     "text": [
      "c:\\Users\\thale\\Documents\\Projetos_DS\\ml_flow\\evn\\Lib\\site-packages\\_distutils_hack\\__init__.py:18: UserWarning: Distutils was imported before Setuptools, but importing Setuptools also replaces the `distutils` module in `sys.modules`. This may lead to undesirable behaviors or errors. To avoid these issues, avoid using distutils directly, ensure that setuptools is installed in the traditional way (e.g. not an editable install), and/or make sure that setuptools is always imported before distutils.\n",
      "  warnings.warn(\n",
      "c:\\Users\\thale\\Documents\\Projetos_DS\\ml_flow\\evn\\Lib\\site-packages\\_distutils_hack\\__init__.py:33: UserWarning: Setuptools is replacing distutils.\n",
      "  warnings.warn(\"Setuptools is replacing distutils.\")\n",
      "c:\\Users\\thale\\Documents\\Projetos_DS\\ml_flow\\evn\\Lib\\site-packages\\mlflow\\models\\signature.py:213: UserWarning: Hint: Inferred schema contains integer column(s). Integer columns in Python cannot represent missing values. If your input data contains missing values at inference time, it will be encoded as floats and will cause a schema enforcement error. The best way to avoid this problem is to infer the model schema based on a realistic data sample (training dataset) that includes missing values. Alternatively, you can declare integer columns as doubles (float64) whenever these columns may have missing values. See `Handling Integers With Missing Values <https://www.mlflow.org/docs/latest/models.html#handling-integers-with-missing-values>`_ for more details.\n",
      "  outputs = _infer_schema(model_output) if model_output is not None else None\n",
      "c:\\Users\\thale\\Documents\\Projetos_DS\\ml_flow\\evn\\Lib\\site-packages\\_distutils_hack\\__init__.py:18: UserWarning: Distutils was imported before Setuptools, but importing Setuptools also replaces the `distutils` module in `sys.modules`. This may lead to undesirable behaviors or errors. To avoid these issues, avoid using distutils directly, ensure that setuptools is installed in the traditional way (e.g. not an editable install), and/or make sure that setuptools is always imported before distutils.\n",
      "  warnings.warn(\n",
      "c:\\Users\\thale\\Documents\\Projetos_DS\\ml_flow\\evn\\Lib\\site-packages\\_distutils_hack\\__init__.py:33: UserWarning: Setuptools is replacing distutils.\n",
      "  warnings.warn(\"Setuptools is replacing distutils.\")\n",
      "c:\\Users\\thale\\Documents\\Projetos_DS\\ml_flow\\evn\\Lib\\site-packages\\tqdm\\auto.py:21: TqdmWarning: IProgress not found. Please update jupyter and ipywidgets. See https://ipywidgets.readthedocs.io/en/stable/user_install.html\n",
      "  from .autonotebook import tqdm as notebook_tqdm\n",
      "Downloading artifacts: 100%|██████████| 5/5 [00:00<00:00, 165.78it/s]\n",
      "Downloading artifacts: 100%|██████████| 5/5 [00:00<00:00, 79.71it/s]\n",
      "c:\\Users\\thale\\Documents\\Projetos_DS\\ml_flow\\evn\\Lib\\site-packages\\mlflow\\data\\digest_utils.py:26: FutureWarning: DataFrame.applymap has been deprecated. Use DataFrame.map instead.\n",
      "  string_columns = trimmed_df.columns[(df.applymap(type) == str).all(0)]\n",
      "c:\\Users\\thale\\Documents\\Projetos_DS\\ml_flow\\evn\\Lib\\site-packages\\mlflow\\models\\evaluation\\base.py:414: FutureWarning: DataFrame.applymap has been deprecated. Use DataFrame.map instead.\n",
      "  data = data.applymap(_hash_array_like_element_as_bytes)\n",
      "c:\\Users\\thale\\Documents\\Projetos_DS\\ml_flow\\evn\\Lib\\site-packages\\mlflow\\models\\evaluation\\base.py:414: FutureWarning: DataFrame.applymap has been deprecated. Use DataFrame.map instead.\n",
      "  data = data.applymap(_hash_array_like_element_as_bytes)\n",
      "c:\\Users\\thale\\Documents\\Projetos_DS\\ml_flow\\evn\\Lib\\site-packages\\mlflow\\data\\pandas_dataset.py:134: UserWarning: Hint: Inferred schema contains integer column(s). Integer columns in Python cannot represent missing values. If your input data contains missing values at inference time, it will be encoded as floats and will cause a schema enforcement error. The best way to avoid this problem is to infer the model schema based on a realistic data sample (training dataset) that includes missing values. Alternatively, you can declare integer columns as doubles (float64) whenever these columns may have missing values. See `Handling Integers With Missing Values <https://www.mlflow.org/docs/latest/models.html#handling-integers-with-missing-values>`_ for more details.\n",
      "  return _infer_schema(self._df)\n",
      "2023/12/09 07:27:58 INFO mlflow.models.evaluation.base: Evaluating the model with the default evaluator.\n",
      "2023/12/09 07:27:58 INFO mlflow.models.evaluation.default_evaluator: Evaluating candidate model:\n",
      "2023/12/09 07:27:58 INFO mlflow.models.evaluation.default_evaluator: Computing model predictions.\n",
      "2023/12/09 07:27:58 INFO mlflow.models.evaluation.default_evaluator: The evaluation dataset is inferred as binary dataset, positive label is 1, negative label is 0.\n",
      "2023/12/09 07:27:58 INFO mlflow.models.evaluation.default_evaluator: Testing metrics on first row...\n",
      "2023/12/09 07:28:01 INFO mlflow.models.evaluation.default_evaluator: Shap explainer LinearExplainer is used.\n",
      "Unable to serialize underlying model using MLflow, will use SHAP serialization\n",
      "2023/12/09 07:28:01 WARNING mlflow.models.evaluation.default_evaluator: Logging explainer failed. Reason: AttributeError(\"'LogisticRegression' object has no attribute 'save'\"). Set logging level to DEBUG to see the full traceback.\n",
      "2023/12/09 07:28:04 INFO mlflow.models.evaluation.default_evaluator: Evaluating baseline model:\n",
      "2023/12/09 07:28:04 INFO mlflow.models.evaluation.default_evaluator: Computing model predictions.\n",
      "2023/12/09 07:28:04 INFO mlflow.models.evaluation.default_evaluator: The evaluation dataset is inferred as binary dataset, positive label is 1, negative label is 0.\n",
      "2023/12/09 07:28:04 INFO mlflow.models.evaluation.default_evaluator: Testing metrics on first row...\n",
      "2023/12/09 07:28:04 INFO mlflow.models.evaluation.base: Validating generated model metrics\n",
      "2023/12/09 07:28:04 INFO mlflow.models.evaluation.base: Model validation passed!\n",
      "  4%|▎         | 1736/49500 [13:17<6:05:35,  2.18it/s] \n"
     ]
    },
    {
     "ename": "KeyboardInterrupt",
     "evalue": "",
     "output_type": "error",
     "traceback": [
      "\u001b[1;31m---------------------------------------------------------------------------\u001b[0m",
      "\u001b[1;31mKeyboardInterrupt\u001b[0m                         Traceback (most recent call last)",
      "\u001b[1;32mc:\\Users\\thale\\Documents\\Projetos_DS\\ml_flow\\ml_flow_project\\projeto\\notebooks\\01-baseline-model-mlflow.ipynb Cell 16\u001b[0m line \u001b[0;36m6\n\u001b[0;32m     <a href='vscode-notebook-cell:/c%3A/Users/thale/Documents/Projetos_DS/ml_flow/ml_flow_project/projeto/notebooks/01-baseline-model-mlflow.ipynb#X20sZmlsZQ%3D%3D?line=65'>66</a>\u001b[0m mlflow\u001b[39m.\u001b[39mevaluate(candidate_model_uri, eval_data, targets\u001b[39m=\u001b[39m\u001b[39m'\u001b[39m\u001b[39mlabel\u001b[39m\u001b[39m'\u001b[39m, model_type\u001b[39m=\u001b[39m\u001b[39m'\u001b[39m\u001b[39mclassifier\u001b[39m\u001b[39m'\u001b[39m, validation_thresholds\u001b[39m=\u001b[39mthresholds,baseline_model\u001b[39m=\u001b[39mbaseline_model_uri)\n\u001b[0;32m     <a href='vscode-notebook-cell:/c%3A/Users/thale/Documents/Projetos_DS/ml_flow/ml_flow_project/projeto/notebooks/01-baseline-model-mlflow.ipynb#X20sZmlsZQ%3D%3D?line=67'>68</a>\u001b[0m \u001b[39m#Explicabilidade do modelo com SHAP\u001b[39;00m\n\u001b[1;32m---> <a href='vscode-notebook-cell:/c%3A/Users/thale/Documents/Projetos_DS/ml_flow/ml_flow_project/projeto/notebooks/01-baseline-model-mlflow.ipynb#X20sZmlsZQ%3D%3D?line=68'>69</a>\u001b[0m mlflow\u001b[39m.\u001b[39;49mshap\u001b[39m.\u001b[39;49mlog_explanation(model\u001b[39m.\u001b[39;49mpredict, X_valid_processed\u001b[39m.\u001b[39;49mdrop(\u001b[39m'\u001b[39;49m\u001b[39mlabel\u001b[39;49m\u001b[39m'\u001b[39;49m, axis\u001b[39m=\u001b[39;49m\u001b[39m1\u001b[39;49m))\n\u001b[0;32m     <a href='vscode-notebook-cell:/c%3A/Users/thale/Documents/Projetos_DS/ml_flow/ml_flow_project/projeto/notebooks/01-baseline-model-mlflow.ipynb#X20sZmlsZQ%3D%3D?line=70'>71</a>\u001b[0m mlflow\u001b[39m.\u001b[39mend_run()\n",
      "File \u001b[1;32mc:\\Users\\thale\\Documents\\Projetos_DS\\ml_flow\\evn\\Lib\\site-packages\\mlflow\\shap\\__init__.py:275\u001b[0m, in \u001b[0;36mlog_explanation\u001b[1;34m(predict_function, features, artifact_path)\u001b[0m\n\u001b[0;32m    273\u001b[0m background_data \u001b[39m=\u001b[39m shap\u001b[39m.\u001b[39mkmeans(features, \u001b[39mmin\u001b[39m(_MAXIMUM_BACKGROUND_DATA_SIZE, \u001b[39mlen\u001b[39m(features)))\n\u001b[0;32m    274\u001b[0m explainer \u001b[39m=\u001b[39m shap\u001b[39m.\u001b[39mKernelExplainer(predict_function, background_data)\n\u001b[1;32m--> 275\u001b[0m shap_values \u001b[39m=\u001b[39m explainer\u001b[39m.\u001b[39;49mshap_values(features)\n\u001b[0;32m    277\u001b[0m _log_numpy(explainer\u001b[39m.\u001b[39mexpected_value, _BASE_VALUES_FILE_NAME, artifact_path)\n\u001b[0;32m    278\u001b[0m _log_numpy(shap_values, _SHAP_VALUES_FILE_NAME, artifact_path)\n",
      "File \u001b[1;32mc:\\Users\\thale\\Documents\\Projetos_DS\\ml_flow\\evn\\Lib\\site-packages\\shap\\explainers\\_kernel.py:244\u001b[0m, in \u001b[0;36mKernelExplainer.shap_values\u001b[1;34m(self, X, **kwargs)\u001b[0m\n\u001b[0;32m    242\u001b[0m \u001b[39mif\u001b[39;00m \u001b[39mself\u001b[39m\u001b[39m.\u001b[39mkeep_index:\n\u001b[0;32m    243\u001b[0m     data \u001b[39m=\u001b[39m convert_to_instance_with_index(data, column_name, index_value[i:i \u001b[39m+\u001b[39m \u001b[39m1\u001b[39m], index_name)\n\u001b[1;32m--> 244\u001b[0m explanations\u001b[39m.\u001b[39mappend(\u001b[39mself\u001b[39;49m\u001b[39m.\u001b[39;49mexplain(data, \u001b[39m*\u001b[39;49m\u001b[39m*\u001b[39;49mkwargs))\n\u001b[0;32m    245\u001b[0m \u001b[39mif\u001b[39;00m kwargs\u001b[39m.\u001b[39mget(\u001b[39m\"\u001b[39m\u001b[39mgc_collect\u001b[39m\u001b[39m\"\u001b[39m, \u001b[39mFalse\u001b[39;00m):\n\u001b[0;32m    246\u001b[0m     gc\u001b[39m.\u001b[39mcollect()\n",
      "File \u001b[1;32mc:\\Users\\thale\\Documents\\Projetos_DS\\ml_flow\\evn\\Lib\\site-packages\\shap\\explainers\\_kernel.py:442\u001b[0m, in \u001b[0;36mKernelExplainer.explain\u001b[1;34m(self, incoming_instance, **kwargs)\u001b[0m\n\u001b[0;32m    439\u001b[0m     \u001b[39mself\u001b[39m\u001b[39m.\u001b[39mkernelWeights[nfixed_samples:] \u001b[39m*\u001b[39m\u001b[39m=\u001b[39m weight_left \u001b[39m/\u001b[39m \u001b[39mself\u001b[39m\u001b[39m.\u001b[39mkernelWeights[nfixed_samples:]\u001b[39m.\u001b[39msum()\n\u001b[0;32m    441\u001b[0m \u001b[39m# execute the model on the synthetic samples we have created\u001b[39;00m\n\u001b[1;32m--> 442\u001b[0m \u001b[39mself\u001b[39;49m\u001b[39m.\u001b[39;49mrun()\n\u001b[0;32m    444\u001b[0m \u001b[39m# solve then expand the feature importance (Shapley value) vector to contain the non-varying features\u001b[39;00m\n\u001b[0;32m    445\u001b[0m phi \u001b[39m=\u001b[39m np\u001b[39m.\u001b[39mzeros((\u001b[39mself\u001b[39m\u001b[39m.\u001b[39mdata\u001b[39m.\u001b[39mgroups_size, \u001b[39mself\u001b[39m\u001b[39m.\u001b[39mD))\n",
      "File \u001b[1;32mc:\\Users\\thale\\Documents\\Projetos_DS\\ml_flow\\evn\\Lib\\site-packages\\shap\\explainers\\_kernel.py:593\u001b[0m, in \u001b[0;36mKernelExplainer.run\u001b[1;34m(self)\u001b[0m\n\u001b[0;32m    590\u001b[0m     eyVal \u001b[39m+\u001b[39m\u001b[39m=\u001b[39m \u001b[39mself\u001b[39m\u001b[39m.\u001b[39my[i \u001b[39m*\u001b[39m \u001b[39mself\u001b[39m\u001b[39m.\u001b[39mN \u001b[39m+\u001b[39m j, :] \u001b[39m*\u001b[39m \u001b[39mself\u001b[39m\u001b[39m.\u001b[39mdata\u001b[39m.\u001b[39mweights[j]\n\u001b[0;32m    592\u001b[0m \u001b[39mself\u001b[39m\u001b[39m.\u001b[39mey[i, :] \u001b[39m=\u001b[39m eyVal\n\u001b[1;32m--> 593\u001b[0m \u001b[39mself\u001b[39m\u001b[39m.\u001b[39mnsamplesRun \u001b[39m+\u001b[39m\u001b[39m=\u001b[39m \u001b[39m1\u001b[39m\n",
      "\u001b[1;31mKeyboardInterrupt\u001b[0m: "
     ]
    }
   ],
   "source": [
    "with mlflow.start_run(run_name='with_discretizer'):\n",
    "    mlflow.set_tag('model_name', 'lr_discretizer')\n",
    "\n",
    "    # preprocessar os dados\n",
    "    pipe = Pipeline([\n",
    "        ('imputer', MeanMedianImputer(variables=load_config_file().get('vars_imputer'))),\n",
    "        ('discretizer', EqualFrequencyDiscretiser(variables=load_config_file().get('vars_discretizer'))),\n",
    "        ('scaler', SklearnTransformerWrapper(StandardScaler()))\n",
    "    ])\n",
    "\n",
    "    preprocessador = DataPreprocess(pipe)\n",
    "    preprocessador.train(X_train)\n",
    "\n",
    "    X_train_processed = preprocessador.transform(X_train)\n",
    "    X_valid_processed = preprocessador.transform(X_valid)\n",
    "    joblib.dump(preprocessador, '../models/preprocess.joblib')\n",
    "\n",
    "    # logar um artefato (preprocessador)\n",
    "    mlflow.log_artifact('../models/preprocess.joblib')\n",
    "\n",
    "    # logar os parametros do preprocessador\n",
    "    mlflow.log_params(params={'imputer': pipe['imputer'],\n",
    "                              'discretizer': pipe['discretizer'],\n",
    "                               'scaler': pipe['scaler']})\n",
    "\n",
    "    # Inicia o experimento com cross validation\n",
    "    model = LogisticRegression()\n",
    "    model_eval = ModelEvaluation(model, X_train_processed, y_train, n_splits=5)\n",
    "\n",
    "    roc_auc_scores = model_eval.cross_val_evaluate()\n",
    "\n",
    "    # logar o resultado da performance\n",
    "    mlflow.log_metric('train_roc_auc', roc_auc_scores.mean())\n",
    "\n",
    "    # treinar modelo\n",
    "    model.fit(X_train_processed, y_train)\n",
    "\n",
    "    # salvar as metricas de validacao\n",
    "    y_val_preds = model_eval.model.predict_proba(X_valid_processed)[:,1]\n",
    "    val_roc_auc = model_eval.evaluate_predictions(y_valid, y_val_preds)\n",
    "\n",
    "    mlflow.log_metric('valid_roc_auc', val_roc_auc)\n",
    "\n",
    "    # logar o modelo\n",
    "    candidate_model_uri = mlflow.sklearn.log_model(model, 'lr_model').model_uri\n",
    "\n",
    "\n",
    "    #########\n",
    "    signature = infer_signature(X_valid_processed, y_valid)\n",
    "\n",
    "    eval_data = X_valid_processed\n",
    "    eval_data['label'] = y_valid\n",
    "    thresholds = {\n",
    "        \"accuracy_score\": MetricThreshold(\n",
    "            threshold=0.7, # o score da accuracy precisa ser maior que 0.7 para ser salvo\n",
    "            min_absolute_change=0.05,\n",
    "            min_relative_change=0.05,\n",
    "            greater_is_better=True\n",
    "        )\n",
    "    }\n",
    "\n",
    "    baseline_model = DummyClassifier(strategy='uniform').fit(X_train_processed, y_train)\n",
    "    baseline_model_uri = mlflow.sklearn.log_model(baseline_model, 'baseline_model', signature=signature).model_uri\n",
    "\n",
    "    #Processo de avaliação do mlflow\n",
    "    mlflow.evaluate(candidate_model_uri, eval_data, targets='label', model_type='classifier', validation_thresholds=thresholds,baseline_model=baseline_model_uri)\n",
    "\n",
    "    #Explicabilidade do modelo com SHAP\n",
    "    mlflow.shap.log_explanation(model.predict, X_valid_processed.drop('label', axis=1))\n",
    "\n",
    "    mlflow.end_run()\n"
   ]
  },
  {
   "cell_type": "code",
   "execution_count": null,
   "metadata": {},
   "outputs": [],
   "source": []
  },
  {
   "cell_type": "code",
   "execution_count": null,
   "metadata": {},
   "outputs": [],
   "source": []
  },
  {
   "cell_type": "code",
   "execution_count": null,
   "metadata": {},
   "outputs": [],
   "source": []
  }
 ],
 "metadata": {
  "kernelspec": {
   "display_name": "evn",
   "language": "python",
   "name": "python3"
  },
  "language_info": {
   "codemirror_mode": {
    "name": "ipython",
    "version": 3
   },
   "file_extension": ".py",
   "mimetype": "text/x-python",
   "name": "python",
   "nbconvert_exporter": "python",
   "pygments_lexer": "ipython3",
   "version": "3.11.4"
  }
 },
 "nbformat": 4,
 "nbformat_minor": 2
}
