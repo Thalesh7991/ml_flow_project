{
 "cells": [
  {
   "cell_type": "markdown",
   "metadata": {},
   "source": [
    "# Imports"
   ]
  },
  {
   "cell_type": "code",
   "execution_count": 1,
   "metadata": {},
   "outputs": [],
   "source": [
    "import sys\n",
    "import pandas as pd\n",
    "import joblib\n",
    "sys.path.insert(0, '../src/')\n",
    "\n",
    "from sklearn.pipeline import Pipeline\n",
    "from sklearn.linear_model import LogisticRegression\n",
    "from feature_engine.imputation import MeanMedianImputer\n",
    "from feature_engine.wrappers import SklearnTransformerWrapper\n",
    "from sklearn.preprocessing import RobustScaler, StandardScaler\n",
    "from feature_engine.discretisation import EqualFrequencyDiscretiser, EqualWidthDiscretiser\n",
    "\n",
    "\n",
    "from data.data_load import DataLoad\n",
    "from data.data_validation import DataValidation\n",
    "from data.data_transformation import DataTransformation\n",
    "from data.data_preprocess import DataPreprocess\n",
    "from utils.utils import load_config_file\n",
    "from train.train_model import TrainModel\n",
    "from evaluation.classifiers_eval import ModelEvaluation"
   ]
  },
  {
   "cell_type": "markdown",
   "metadata": {},
   "source": [
    "# 1.0 Data Load"
   ]
  },
  {
   "cell_type": "code",
   "execution_count": 2,
   "metadata": {},
   "outputs": [
    {
     "name": "stdout",
     "output_type": "stream",
     "text": [
      "2023-12-09 07:47:32 [info     ] Iniciando o carregamento\n"
     ]
    }
   ],
   "source": [
    "dl = DataLoad()\n",
    "df = dl.load_data('train_dataset_name')"
   ]
  },
  {
   "cell_type": "markdown",
   "metadata": {},
   "source": [
    "# 2.0 Data Validation"
   ]
  },
  {
   "cell_type": "code",
   "execution_count": 3,
   "metadata": {},
   "outputs": [
    {
     "name": "stdout",
     "output_type": "stream",
     "text": [
      "2023-12-09 07:47:32 [info     ] Validação iniciou..\n",
      "2023-12-09 07:47:32 [info     ] Validation columns passed...\n",
      "2023-12-09 07:47:32 [info     ] Validacao com sucesso.\n"
     ]
    }
   ],
   "source": [
    "dv = DataValidation()\n",
    "is_valid = dv.run(df)"
   ]
  },
  {
   "cell_type": "markdown",
   "metadata": {},
   "source": [
    "# 3.0 Data Transformation"
   ]
  },
  {
   "cell_type": "code",
   "execution_count": 4,
   "metadata": {},
   "outputs": [],
   "source": [
    "dt = DataTransformation(df)"
   ]
  },
  {
   "cell_type": "code",
   "execution_count": 5,
   "metadata": {},
   "outputs": [],
   "source": [
    "X_train, X_valid, y_train, y_valid = dt.train_test_split()"
   ]
  },
  {
   "cell_type": "markdown",
   "metadata": {},
   "source": [
    "# 4.0 Experimentations"
   ]
  },
  {
   "cell_type": "code",
   "execution_count": 6,
   "metadata": {},
   "outputs": [
    {
     "name": "stderr",
     "output_type": "stream",
     "text": [
      "c:\\Users\\thale\\Documents\\Projetos_DS\\ml_flow\\evn\\Lib\\site-packages\\pydantic\\_internal\\_fields.py:149: UserWarning: Field \"model_server_url\" has conflict with protected namespace \"model_\".\n",
      "\n",
      "You may be able to resolve this warning by setting `model_config['protected_namespaces'] = ()`.\n",
      "  warnings.warn(\n",
      "c:\\Users\\thale\\Documents\\Projetos_DS\\ml_flow\\evn\\Lib\\site-packages\\pydantic\\_internal\\_config.py:318: UserWarning: Valid config keys have changed in V2:\n",
      "* 'schema_extra' has been renamed to 'json_schema_extra'\n",
      "  warnings.warn(message, UserWarning)\n"
     ]
    }
   ],
   "source": [
    "import mlflow\n",
    "from mlflow.tracking import MlflowClient"
   ]
  },
  {
   "cell_type": "code",
   "execution_count": 7,
   "metadata": {},
   "outputs": [
    {
     "data": {
      "text/plain": [
       "<Experiment: artifact_location='mlflow-artifacts:/1', creation_time=1702116604955, experiment_id='1', last_update_time=1702116604955, lifecycle_stage='active', name='prob_loan', tags={}>"
      ]
     },
     "execution_count": 7,
     "metadata": {},
     "output_type": "execute_result"
    }
   ],
   "source": [
    "mlflow.set_tracking_uri('http://127.0.0.1:5000')\n",
    "mlflow.set_experiment('prob_loan')"
   ]
  },
  {
   "cell_type": "markdown",
   "metadata": {},
   "source": [
    "## 4.1 Hyperparameters"
   ]
  },
  {
   "cell_type": "code",
   "execution_count": 8,
   "metadata": {},
   "outputs": [],
   "source": [
    "from mlflow.models import MetricThreshold\n",
    "from sklearn.dummy import DummyClassifier\n",
    "from mlflow.models import infer_signature"
   ]
  },
  {
   "cell_type": "code",
   "execution_count": 9,
   "metadata": {},
   "outputs": [],
   "source": [
    "from hyperopt import fmin, tpe, hp, STATUS_OK"
   ]
  },
  {
   "cell_type": "code",
   "execution_count": 12,
   "metadata": {},
   "outputs": [],
   "source": [
    "#preprocessar os dados\n",
    "pipe = Pipeline([\n",
    "    ('imputer', MeanMedianImputer(variables=load_config_file().get('vars_imputer'))),\n",
    "    ('discretizer', EqualFrequencyDiscretiser(variables=load_config_file().get('vars_discretizer'))),\n",
    "    ('scaler', SklearnTransformerWrapper(StandardScaler()))\n",
    "])"
   ]
  },
  {
   "cell_type": "code",
   "execution_count": 18,
   "metadata": {},
   "outputs": [],
   "source": [
    "def objective(params):\n",
    "    with mlflow.start_run(run_name='with_discretizer_hyperopt'):\n",
    "        mlflow.set_tag('model_name', 'lr_hyperopt')\n",
    "        mlflow.log_params(params)\n",
    "\n",
    "\n",
    "        preprocessador = DataPreprocess(pipe)\n",
    "        preprocessador.train(X_train)\n",
    "\n",
    "        X_train_processed = preprocessador.transform(X_train)\n",
    "        X_valid_processed = preprocessador.transform(X_valid)\n",
    "        joblib.dump(preprocessador, '../models/preprocess.joblib')\n",
    "\n",
    "        # logar um artefato (preprocessador)\n",
    "        mlflow.log_artifact('../models/preprocess.joblib')\n",
    "\n",
    "        # logar os parametros do preprocessador\n",
    "        mlflow.log_params(params={'imputer': pipe['imputer'],\n",
    "                                'discretizer': pipe['discretizer'],\n",
    "                                'scaler': pipe['scaler']})\n",
    "\n",
    "        # Inicia o experimento com cross validation\n",
    "        model = LogisticRegression(**params)\n",
    "        model_eval = ModelEvaluation(model, X_train_processed, y_train, n_splits=5)\n",
    "\n",
    "        roc_auc_scores = model_eval.cross_val_evaluate()\n",
    "\n",
    "        # logar o resultado da performance\n",
    "        mlflow.log_metric('train_roc_auc', roc_auc_scores.mean())\n",
    "\n",
    "        # treinar modelo\n",
    "        model.fit(X_train_processed, y_train)\n",
    "\n",
    "        # salvar as metricas de validacao\n",
    "        y_val_preds = model_eval.model.predict_proba(X_valid_processed)[:,1]\n",
    "        val_roc_auc = model_eval.evaluate_predictions(y_valid, y_val_preds)\n",
    "\n",
    "        mlflow.log_metric('valid_roc_auc', val_roc_auc)\n",
    "\n",
    "        # logar o modelo\n",
    "        candidate_model_uri = mlflow.sklearn.log_model(model, 'lr_model').model_uri\n",
    "\n",
    "\n",
    "        #########\n",
    "        signature = infer_signature(X_valid_processed, y_valid)\n",
    "\n",
    "        eval_data = X_valid_processed\n",
    "        eval_data['label'] = y_valid\n",
    "        thresholds = {\n",
    "            \"accuracy_score\": MetricThreshold(\n",
    "                threshold=0.1, # o score da accuracy precisa ser maior que 0.7 para ser salvo\n",
    "                min_absolute_change=0.05,\n",
    "                min_relative_change=0.05,\n",
    "                greater_is_better=True\n",
    "            )\n",
    "        }\n",
    "\n",
    "        baseline_model = DummyClassifier(strategy='uniform').fit(X_train_processed, y_train)\n",
    "        baseline_model_uri = mlflow.sklearn.log_model(baseline_model, 'baseline_model', signature=signature).model_uri\n",
    "\n",
    "        #Processo de avaliação do mlflow\n",
    "        mlflow.evaluate(candidate_model_uri, eval_data, targets='label', model_type='classifier', validation_thresholds=thresholds,baseline_model=baseline_model_uri)\n",
    "\n",
    "        mlflow.end_run()\n",
    "\n",
    "        return {'loss': -roc_auc_scores.mean(), 'status': STATUS_OK}\n"
   ]
  },
  {
   "cell_type": "code",
   "execution_count": 19,
   "metadata": {},
   "outputs": [],
   "source": [
    "search_space = {\n",
    "    'warm_start': hp.choice('warm_start', [True,False]),\n",
    "    'fit_intercept': hp.choice('fit_intercept', [True,False]),\n",
    "    'tol': hp.uniform('tol', 0.00001, 0.0001),\n",
    "    'C': hp.uniform('C', 0.05, 3),\n",
    "    'solver': hp.choice('solver', ['newton-cg', 'lbfgs', 'liblinear']),\n",
    "    'max_iter': hp.choice('max_iter', range(100,1000)),\n",
    "    'multi_class': 'auto',\n",
    "    'class_weight': hp.choice('class_weight', [None,'balanced'])\n",
    "}"
   ]
  },
  {
   "cell_type": "code",
   "execution_count": 20,
   "metadata": {},
   "outputs": [
    {
     "name": "stdout",
     "output_type": "stream",
     "text": [
      "2023-12-09 08:08:50                                   [info     ] Iniciando o processamento\n",
      "2023-12-09 08:08:50                                   [info     ] Iniciando a Transformação\n",
      "2023-12-09 08:08:50                                   [info     ] Iniciando a Transformação\n",
      "2023-12-09 08:08:50                                   [info     ] Iniciando a Cross Validation...\n",
      "  0%|          | 0/5 [00:00<?, ?trial/s, best loss=?]"
     ]
    },
    {
     "name": "stderr",
     "output_type": "stream",
     "text": [
      "Distutils was imported before Setuptools, but importing Setuptools also replaces the `distutils` module in `sys.modules`. This may lead to undesirable behaviors or errors. To avoid these issues, avoid using distutils directly, ensure that setuptools is installed in the traditional way (e.g. not an editable install), and/or make sure that setuptools is always imported before distutils.\n",
      "\n",
      "Setuptools is replacing distutils.\n",
      "\n",
      "Hint: Inferred schema contains integer column(s). Integer columns in Python cannot represent missing values. If your input data contains missing values at inference time, it will be encoded as floats and will cause a schema enforcement error. The best way to avoid this problem is to infer the model schema based on a realistic data sample (training dataset) that includes missing values. Alternatively, you can declare integer columns as doubles (float64) whenever these columns may have missing values. See `Handling Integers With Missing Values <https://www.mlflow.org/docs/latest/models.html#handling-integers-with-missing-values>`_ for more details.\n",
      "\n",
      "Distutils was imported before Setuptools, but importing Setuptools also replaces the `distutils` module in `sys.modules`. This may lead to undesirable behaviors or errors. To avoid these issues, avoid using distutils directly, ensure that setuptools is installed in the traditional way (e.g. not an editable install), and/or make sure that setuptools is always imported before distutils.\n",
      "\n",
      "Setuptools is replacing distutils.\n",
      "\n",
      "Downloading artifacts:   0%|          | 0/5 [00:00<?, ?it/s]\n",
      "\n",
      "Downloading artifacts:  20%|##        | 1/5 [00:00<00:00, 25.05it/s]\n",
      "\n",
      "Downloading artifacts:  40%|####      | 2/5 [00:00<00:00, 29.28it/s]\n",
      "\n",
      "Downloading artifacts:  60%|######    | 3/5 [00:00<00:00, 34.30it/s]\n",
      "\n",
      "Downloading artifacts:  80%|########  | 4/5 [00:00<00:00, 39.65it/s]\n",
      "\n",
      "Downloading artifacts:  80%|########  | 4/5 [00:00<00:00, 39.65it/s]\n",
      "\n",
      "Downloading artifacts: 100%|##########| 5/5 [00:00<00:00, 39.65it/s]\n",
      "\n",
      "Downloading artifacts: 100%|##########| 5/5 [00:00<00:00, 33.66it/s]\n",
      "Downloading artifacts:   0%|          | 0/5 [00:00<?, ?it/s]\n",
      "\n",
      "Downloading artifacts:  20%|##        | 1/5 [00:00<00:00, 21.69it/s]\n",
      "\n",
      "Downloading artifacts:  40%|####      | 2/5 [00:00<00:00, 24.90it/s]\n",
      "\n",
      "Downloading artifacts:  60%|######    | 3/5 [00:00<00:00, 29.27it/s]\n",
      "\n",
      "Downloading artifacts:  60%|######    | 3/5 [00:00<00:00, 29.27it/s]\n",
      "\n",
      "Downloading artifacts:  80%|########  | 4/5 [00:00<00:00, 29.27it/s]\n",
      "\n",
      "Downloading artifacts: 100%|##########| 5/5 [00:00<00:00, 29.27it/s]\n",
      "\n",
      "Downloading artifacts: 100%|##########| 5/5 [00:00<00:00, 29.03it/s]\n",
      "DataFrame.applymap has been deprecated. Use DataFrame.map instead.\n",
      "\n",
      "DataFrame.applymap has been deprecated. Use DataFrame.map instead.\n",
      "\n",
      "DataFrame.applymap has been deprecated. Use DataFrame.map instead.\n",
      "\n",
      "Hint: Inferred schema contains integer column(s). Integer columns in Python cannot represent missing values. If your input data contains missing values at inference time, it will be encoded as floats and will cause a schema enforcement error. The best way to avoid this problem is to infer the model schema based on a realistic data sample (training dataset) that includes missing values. Alternatively, you can declare integer columns as doubles (float64) whenever these columns may have missing values. See `Handling Integers With Missing Values <https://www.mlflow.org/docs/latest/models.html#handling-integers-with-missing-values>`_ for more details.\n",
      "\n",
      "2023/12/09 08:09:03 INFO mlflow.models.evaluation.base: Evaluating the model with the default evaluator.\n",
      "\n",
      "2023/12/09 08:09:03 INFO mlflow.models.evaluation.default_evaluator: Evaluating candidate model:\n",
      "\n",
      "2023/12/09 08:09:03 INFO mlflow.models.evaluation.default_evaluator: Computing model predictions.\n",
      "\n",
      "2023/12/09 08:09:03 INFO mlflow.models.evaluation.default_evaluator: The evaluation dataset is inferred as binary dataset, positive label is 1, negative label is 0.\n",
      "\n",
      "2023/12/09 08:09:03 INFO mlflow.models.evaluation.default_evaluator: Testing metrics on first row...\n",
      "\n",
      "2023/12/09 08:09:05 INFO mlflow.models.evaluation.default_evaluator: Shap explainer LinearExplainer is used.\n",
      "\n",
      "Unable to serialize underlying model using MLflow, will use SHAP serialization\n",
      "\n",
      "2023/12/09 08:09:05 WARNING mlflow.models.evaluation.default_evaluator: Logging explainer failed. Reason: AttributeError(\"'LogisticRegression' object has no attribute 'save'\"). Set logging level to DEBUG to see the full traceback.\n",
      "\n",
      "2023/12/09 08:09:08 INFO mlflow.models.evaluation.default_evaluator: Evaluating baseline model:\n",
      "\n",
      "2023/12/09 08:09:08 INFO mlflow.models.evaluation.default_evaluator: Computing model predictions.\n",
      "\n",
      "2023/12/09 08:09:08 INFO mlflow.models.evaluation.default_evaluator: The evaluation dataset is inferred as binary dataset, positive label is 1, negative label is 0.\n",
      "\n",
      "2023/12/09 08:09:08 INFO mlflow.models.evaluation.default_evaluator: Testing metrics on first row...\n",
      "\n",
      "2023/12/09 08:09:08 INFO mlflow.models.evaluation.base: Validating generated model metrics\n",
      "\n",
      "2023/12/09 08:09:08 INFO mlflow.models.evaluation.base: Model validation passed!\n",
      "\n"
     ]
    },
    {
     "name": "stdout",
     "output_type": "stream",
     "text": [
      "2023-12-09 08:09:08                                                              [info     ] Iniciando o processamento\n",
      "2023-12-09 08:09:08                                                              [info     ] Iniciando a Transformação\n",
      "2023-12-09 08:09:08                                                              [info     ] Iniciando a Transformação\n",
      "2023-12-09 08:09:09                                                              [info     ] Iniciando a Cross Validation...\n",
      " 20%|██        | 1/5 [00:18<01:12, 18.14s/trial, best loss: -0.8245986009834112]"
     ]
    },
    {
     "name": "stderr",
     "output_type": "stream",
     "text": [
      "Distutils was imported before Setuptools, but importing Setuptools also replaces the `distutils` module in `sys.modules`. This may lead to undesirable behaviors or errors. To avoid these issues, avoid using distutils directly, ensure that setuptools is installed in the traditional way (e.g. not an editable install), and/or make sure that setuptools is always imported before distutils.\n",
      "\n",
      "Setuptools is replacing distutils.\n",
      "\n",
      "Hint: Inferred schema contains integer column(s). Integer columns in Python cannot represent missing values. If your input data contains missing values at inference time, it will be encoded as floats and will cause a schema enforcement error. The best way to avoid this problem is to infer the model schema based on a realistic data sample (training dataset) that includes missing values. Alternatively, you can declare integer columns as doubles (float64) whenever these columns may have missing values. See `Handling Integers With Missing Values <https://www.mlflow.org/docs/latest/models.html#handling-integers-with-missing-values>`_ for more details.\n",
      "\n",
      "Distutils was imported before Setuptools, but importing Setuptools also replaces the `distutils` module in `sys.modules`. This may lead to undesirable behaviors or errors. To avoid these issues, avoid using distutils directly, ensure that setuptools is installed in the traditional way (e.g. not an editable install), and/or make sure that setuptools is always imported before distutils.\n",
      "\n",
      "Setuptools is replacing distutils.\n",
      "\n",
      "Downloading artifacts:   0%|          | 0/5 [00:00<?, ?it/s]\n",
      "\n",
      "Downloading artifacts:  20%|##        | 1/5 [00:00<00:00, 32.34it/s]\n",
      "\n",
      "Downloading artifacts:  40%|####      | 2/5 [00:00<00:00, 46.90it/s]\n",
      "\n",
      "Downloading artifacts:  60%|######    | 3/5 [00:00<00:00, 61.75it/s]\n",
      "\n",
      "Downloading artifacts:  80%|########  | 4/5 [00:00<00:00, 58.61it/s]\n",
      "\n",
      "Downloading artifacts: 100%|##########| 5/5 [00:00<00:00, 65.01it/s]\n",
      "\n",
      "Downloading artifacts: 100%|##########| 5/5 [00:00<00:00, 63.04it/s]\n",
      "Downloading artifacts:   0%|          | 0/5 [00:00<?, ?it/s]\n",
      "\n",
      "Downloading artifacts:  20%|##        | 1/5 [00:00<00:00, 44.49it/s]\n",
      "\n",
      "Downloading artifacts:  40%|####      | 2/5 [00:00<00:00, 55.07it/s]\n",
      "\n",
      "Downloading artifacts:  60%|######    | 3/5 [00:00<00:00, 63.33it/s]\n",
      "\n",
      "Downloading artifacts:  80%|########  | 4/5 [00:00<00:00, 68.44it/s]\n",
      "\n",
      "Downloading artifacts: 100%|##########| 5/5 [00:00<00:00, 71.49it/s]\n",
      "\n",
      "Downloading artifacts: 100%|##########| 5/5 [00:00<00:00, 68.52it/s]\n",
      "DataFrame.applymap has been deprecated. Use DataFrame.map instead.\n",
      "\n",
      "DataFrame.applymap has been deprecated. Use DataFrame.map instead.\n",
      "\n",
      "DataFrame.applymap has been deprecated. Use DataFrame.map instead.\n",
      "\n",
      "Hint: Inferred schema contains integer column(s). Integer columns in Python cannot represent missing values. If your input data contains missing values at inference time, it will be encoded as floats and will cause a schema enforcement error. The best way to avoid this problem is to infer the model schema based on a realistic data sample (training dataset) that includes missing values. Alternatively, you can declare integer columns as doubles (float64) whenever these columns may have missing values. See `Handling Integers With Missing Values <https://www.mlflow.org/docs/latest/models.html#handling-integers-with-missing-values>`_ for more details.\n",
      "\n",
      "2023/12/09 08:09:18 INFO mlflow.models.evaluation.base: Evaluating the model with the default evaluator.\n",
      "\n",
      "2023/12/09 08:09:18 INFO mlflow.models.evaluation.default_evaluator: Evaluating candidate model:\n",
      "\n",
      "2023/12/09 08:09:18 INFO mlflow.models.evaluation.default_evaluator: Computing model predictions.\n",
      "\n",
      "2023/12/09 08:09:18 INFO mlflow.models.evaluation.default_evaluator: The evaluation dataset is inferred as binary dataset, positive label is 1, negative label is 0.\n",
      "\n",
      "2023/12/09 08:09:19 INFO mlflow.models.evaluation.default_evaluator: Testing metrics on first row...\n",
      "\n",
      "2023/12/09 08:09:21 INFO mlflow.models.evaluation.default_evaluator: Shap explainer LinearExplainer is used.\n",
      "\n",
      "Unable to serialize underlying model using MLflow, will use SHAP serialization\n",
      "\n",
      "2023/12/09 08:09:21 WARNING mlflow.models.evaluation.default_evaluator: Logging explainer failed. Reason: AttributeError(\"'LogisticRegression' object has no attribute 'save'\"). Set logging level to DEBUG to see the full traceback.\n",
      "\n",
      "2023/12/09 08:09:24 INFO mlflow.models.evaluation.default_evaluator: Evaluating baseline model:\n",
      "\n",
      "2023/12/09 08:09:24 INFO mlflow.models.evaluation.default_evaluator: Computing model predictions.\n",
      "\n",
      "2023/12/09 08:09:24 INFO mlflow.models.evaluation.default_evaluator: The evaluation dataset is inferred as binary dataset, positive label is 1, negative label is 0.\n",
      "\n",
      "2023/12/09 08:09:24 INFO mlflow.models.evaluation.default_evaluator: Testing metrics on first row...\n",
      "\n",
      "2023/12/09 08:09:24 INFO mlflow.models.evaluation.base: Validating generated model metrics\n",
      "\n",
      "2023/12/09 08:09:24 INFO mlflow.models.evaluation.base: Model validation passed!\n",
      "\n"
     ]
    },
    {
     "name": "stdout",
     "output_type": "stream",
     "text": [
      "2023-12-09 08:09:24                                                              [info     ] Iniciando o processamento\n",
      "2023-12-09 08:09:25                                                              [info     ] Iniciando a Transformação\n",
      "2023-12-09 08:09:25                                                              [info     ] Iniciando a Transformação\n",
      "2023-12-09 08:09:25                                                              [info     ] Iniciando a Cross Validation...\n",
      " 40%|████      | 2/5 [00:34<00:50, 16.75s/trial, best loss: -0.8245986009834112]"
     ]
    },
    {
     "name": "stderr",
     "output_type": "stream",
     "text": [
      "Distutils was imported before Setuptools, but importing Setuptools also replaces the `distutils` module in `sys.modules`. This may lead to undesirable behaviors or errors. To avoid these issues, avoid using distutils directly, ensure that setuptools is installed in the traditional way (e.g. not an editable install), and/or make sure that setuptools is always imported before distutils.\n",
      "\n",
      "Setuptools is replacing distutils.\n",
      "\n",
      "Hint: Inferred schema contains integer column(s). Integer columns in Python cannot represent missing values. If your input data contains missing values at inference time, it will be encoded as floats and will cause a schema enforcement error. The best way to avoid this problem is to infer the model schema based on a realistic data sample (training dataset) that includes missing values. Alternatively, you can declare integer columns as doubles (float64) whenever these columns may have missing values. See `Handling Integers With Missing Values <https://www.mlflow.org/docs/latest/models.html#handling-integers-with-missing-values>`_ for more details.\n",
      "\n",
      "Distutils was imported before Setuptools, but importing Setuptools also replaces the `distutils` module in `sys.modules`. This may lead to undesirable behaviors or errors. To avoid these issues, avoid using distutils directly, ensure that setuptools is installed in the traditional way (e.g. not an editable install), and/or make sure that setuptools is always imported before distutils.\n",
      "\n",
      "Setuptools is replacing distutils.\n",
      "\n",
      "Downloading artifacts:   0%|          | 0/5 [00:00<?, ?it/s]\n",
      "\n",
      "Downloading artifacts:  20%|##        | 1/5 [00:00<00:00, 29.68it/s]\n",
      "\n",
      "Downloading artifacts:  40%|####      | 2/5 [00:00<00:00, 42.97it/s]\n",
      "\n",
      "Downloading artifacts:  60%|######    | 3/5 [00:00<00:00, 51.15it/s]\n",
      "\n",
      "Downloading artifacts:  80%|########  | 4/5 [00:00<00:00, 53.37it/s]\n",
      "\n",
      "Downloading artifacts: 100%|##########| 5/5 [00:00<00:00, 56.67it/s]\n",
      "\n",
      "Downloading artifacts: 100%|##########| 5/5 [00:00<00:00, 52.25it/s]\n",
      "Downloading artifacts:   0%|          | 0/5 [00:00<?, ?it/s]\n",
      "\n",
      "Downloading artifacts:  20%|##        | 1/5 [00:00<00:00, 24.69it/s]\n",
      "\n",
      "Downloading artifacts:  40%|####      | 2/5 [00:00<00:00, 34.39it/s]\n",
      "\n",
      "Downloading artifacts:  60%|######    | 3/5 [00:00<00:00, 37.86it/s]\n",
      "\n",
      "Downloading artifacts:  80%|########  | 4/5 [00:00<00:00, 38.64it/s]\n",
      "\n",
      "Downloading artifacts:  80%|########  | 4/5 [00:00<00:00, 38.64it/s]\n",
      "\n",
      "Downloading artifacts: 100%|##########| 5/5 [00:00<00:00, 38.64it/s]\n",
      "\n",
      "Downloading artifacts: 100%|##########| 5/5 [00:00<00:00, 36.67it/s]\n",
      "DataFrame.applymap has been deprecated. Use DataFrame.map instead.\n",
      "\n",
      "DataFrame.applymap has been deprecated. Use DataFrame.map instead.\n",
      "\n",
      "DataFrame.applymap has been deprecated. Use DataFrame.map instead.\n",
      "\n",
      "Hint: Inferred schema contains integer column(s). Integer columns in Python cannot represent missing values. If your input data contains missing values at inference time, it will be encoded as floats and will cause a schema enforcement error. The best way to avoid this problem is to infer the model schema based on a realistic data sample (training dataset) that includes missing values. Alternatively, you can declare integer columns as doubles (float64) whenever these columns may have missing values. See `Handling Integers With Missing Values <https://www.mlflow.org/docs/latest/models.html#handling-integers-with-missing-values>`_ for more details.\n",
      "\n",
      "2023/12/09 08:09:37 INFO mlflow.models.evaluation.base: Evaluating the model with the default evaluator.\n",
      "\n",
      "2023/12/09 08:09:37 INFO mlflow.models.evaluation.default_evaluator: Evaluating candidate model:\n",
      "\n",
      "2023/12/09 08:09:37 INFO mlflow.models.evaluation.default_evaluator: Computing model predictions.\n",
      "\n",
      "2023/12/09 08:09:37 INFO mlflow.models.evaluation.default_evaluator: The evaluation dataset is inferred as binary dataset, positive label is 1, negative label is 0.\n",
      "\n",
      "2023/12/09 08:09:37 INFO mlflow.models.evaluation.default_evaluator: Testing metrics on first row...\n",
      "\n",
      "2023/12/09 08:09:39 INFO mlflow.models.evaluation.default_evaluator: Shap explainer LinearExplainer is used.\n",
      "\n",
      "Unable to serialize underlying model using MLflow, will use SHAP serialization\n",
      "\n",
      "2023/12/09 08:09:39 WARNING mlflow.models.evaluation.default_evaluator: Logging explainer failed. Reason: AttributeError(\"'LogisticRegression' object has no attribute 'save'\"). Set logging level to DEBUG to see the full traceback.\n",
      "\n",
      "2023/12/09 08:09:41 INFO mlflow.models.evaluation.default_evaluator: Evaluating baseline model:\n",
      "\n",
      "2023/12/09 08:09:41 INFO mlflow.models.evaluation.default_evaluator: Computing model predictions.\n",
      "\n",
      "2023/12/09 08:09:41 INFO mlflow.models.evaluation.default_evaluator: The evaluation dataset is inferred as binary dataset, positive label is 1, negative label is 0.\n",
      "\n",
      "2023/12/09 08:09:41 INFO mlflow.models.evaluation.default_evaluator: Testing metrics on first row...\n",
      "\n",
      "2023/12/09 08:09:41 INFO mlflow.models.evaluation.base: Validating generated model metrics\n",
      "\n",
      "2023/12/09 08:09:41 INFO mlflow.models.evaluation.base: Model validation passed!\n",
      "\n"
     ]
    },
    {
     "name": "stdout",
     "output_type": "stream",
     "text": [
      "2023-12-09 08:09:41                                                              [info     ] Iniciando o processamento\n",
      "2023-12-09 08:09:41                                                              [info     ] Iniciando a Transformação\n",
      "2023-12-09 08:09:41                                                              [info     ] Iniciando a Transformação\n",
      "2023-12-09 08:09:41                                                              [info     ] Iniciando a Cross Validation...\n",
      " 60%|██████    | 3/5 [00:51<00:33, 16.91s/trial, best loss: -0.8245986009834112]"
     ]
    },
    {
     "name": "stderr",
     "output_type": "stream",
     "text": [
      "Distutils was imported before Setuptools, but importing Setuptools also replaces the `distutils` module in `sys.modules`. This may lead to undesirable behaviors or errors. To avoid these issues, avoid using distutils directly, ensure that setuptools is installed in the traditional way (e.g. not an editable install), and/or make sure that setuptools is always imported before distutils.\n",
      "\n",
      "Setuptools is replacing distutils.\n",
      "\n",
      "Hint: Inferred schema contains integer column(s). Integer columns in Python cannot represent missing values. If your input data contains missing values at inference time, it will be encoded as floats and will cause a schema enforcement error. The best way to avoid this problem is to infer the model schema based on a realistic data sample (training dataset) that includes missing values. Alternatively, you can declare integer columns as doubles (float64) whenever these columns may have missing values. See `Handling Integers With Missing Values <https://www.mlflow.org/docs/latest/models.html#handling-integers-with-missing-values>`_ for more details.\n",
      "\n",
      "Distutils was imported before Setuptools, but importing Setuptools also replaces the `distutils` module in `sys.modules`. This may lead to undesirable behaviors or errors. To avoid these issues, avoid using distutils directly, ensure that setuptools is installed in the traditional way (e.g. not an editable install), and/or make sure that setuptools is always imported before distutils.\n",
      "\n",
      "Setuptools is replacing distutils.\n",
      "\n",
      "Downloading artifacts:   0%|          | 0/5 [00:00<?, ?it/s]\n",
      "\n",
      "Downloading artifacts:  20%|##        | 1/5 [00:00<00:00, 21.47it/s]\n",
      "\n",
      "Downloading artifacts:  40%|####      | 2/5 [00:00<00:00, 37.11it/s]\n",
      "\n",
      "Downloading artifacts:  60%|######    | 3/5 [00:00<00:00, 46.78it/s]\n",
      "\n",
      "Downloading artifacts:  80%|########  | 4/5 [00:00<00:00, 54.22it/s]\n",
      "\n",
      "Downloading artifacts: 100%|##########| 5/5 [00:00<00:00, 59.34it/s]\n",
      "\n",
      "Downloading artifacts: 100%|##########| 5/5 [00:00<00:00, 56.35it/s]\n",
      "Downloading artifacts:   0%|          | 0/5 [00:00<?, ?it/s]\n",
      "\n",
      "Downloading artifacts:  20%|##        | 1/5 [00:00<00:00, 34.76it/s]\n",
      "\n",
      "Downloading artifacts:  40%|####      | 2/5 [00:00<00:00, 58.71it/s]\n",
      "\n",
      "Downloading artifacts:  60%|######    | 3/5 [00:00<00:00, 70.24it/s]\n",
      "\n",
      "Downloading artifacts:  80%|########  | 4/5 [00:00<00:00, 78.75it/s]\n",
      "\n",
      "Downloading artifacts: 100%|##########| 5/5 [00:00<00:00, 83.76it/s]\n",
      "\n",
      "Downloading artifacts: 100%|##########| 5/5 [00:00<00:00, 78.98it/s]\n",
      "DataFrame.applymap has been deprecated. Use DataFrame.map instead.\n",
      "\n",
      "DataFrame.applymap has been deprecated. Use DataFrame.map instead.\n",
      "\n",
      "DataFrame.applymap has been deprecated. Use DataFrame.map instead.\n",
      "\n",
      "Hint: Inferred schema contains integer column(s). Integer columns in Python cannot represent missing values. If your input data contains missing values at inference time, it will be encoded as floats and will cause a schema enforcement error. The best way to avoid this problem is to infer the model schema based on a realistic data sample (training dataset) that includes missing values. Alternatively, you can declare integer columns as doubles (float64) whenever these columns may have missing values. See `Handling Integers With Missing Values <https://www.mlflow.org/docs/latest/models.html#handling-integers-with-missing-values>`_ for more details.\n",
      "\n",
      "2023/12/09 08:09:55 INFO mlflow.models.evaluation.base: Evaluating the model with the default evaluator.\n",
      "\n",
      "2023/12/09 08:09:55 INFO mlflow.models.evaluation.default_evaluator: Evaluating candidate model:\n",
      "\n",
      "2023/12/09 08:09:55 INFO mlflow.models.evaluation.default_evaluator: Computing model predictions.\n",
      "\n",
      "2023/12/09 08:09:55 INFO mlflow.models.evaluation.default_evaluator: The evaluation dataset is inferred as binary dataset, positive label is 1, negative label is 0.\n",
      "\n",
      "2023/12/09 08:09:55 INFO mlflow.models.evaluation.default_evaluator: Testing metrics on first row...\n",
      "\n",
      "2023/12/09 08:09:57 INFO mlflow.models.evaluation.default_evaluator: Shap explainer LinearExplainer is used.\n",
      "\n",
      "Unable to serialize underlying model using MLflow, will use SHAP serialization\n",
      "\n",
      "2023/12/09 08:09:57 WARNING mlflow.models.evaluation.default_evaluator: Logging explainer failed. Reason: AttributeError(\"'LogisticRegression' object has no attribute 'save'\"). Set logging level to DEBUG to see the full traceback.\n",
      "\n",
      "2023/12/09 08:09:59 INFO mlflow.models.evaluation.default_evaluator: Evaluating baseline model:\n",
      "\n",
      "2023/12/09 08:09:59 INFO mlflow.models.evaluation.default_evaluator: Computing model predictions.\n",
      "\n",
      "2023/12/09 08:09:59 INFO mlflow.models.evaluation.default_evaluator: The evaluation dataset is inferred as binary dataset, positive label is 1, negative label is 0.\n",
      "\n",
      "2023/12/09 08:10:00 INFO mlflow.models.evaluation.default_evaluator: Testing metrics on first row...\n",
      "\n",
      "2023/12/09 08:10:00 INFO mlflow.models.evaluation.base: Validating generated model metrics\n",
      "\n",
      "2023/12/09 08:10:00 INFO mlflow.models.evaluation.base: Model validation passed!\n",
      "\n"
     ]
    },
    {
     "name": "stdout",
     "output_type": "stream",
     "text": [
      "2023-12-09 08:10:00                                                              [info     ] Iniciando o processamento\n",
      "2023-12-09 08:10:00                                                              [info     ] Iniciando a Transformação\n",
      "2023-12-09 08:10:00                                                              [info     ] Iniciando a Transformação\n",
      "2023-12-09 08:10:00                                                              [info     ] Iniciando a Cross Validation...\n",
      " 80%|████████  | 4/5 [01:10<00:17, 17.59s/trial, best loss: -0.8245986009834112]"
     ]
    },
    {
     "name": "stderr",
     "output_type": "stream",
     "text": [
      "Distutils was imported before Setuptools, but importing Setuptools also replaces the `distutils` module in `sys.modules`. This may lead to undesirable behaviors or errors. To avoid these issues, avoid using distutils directly, ensure that setuptools is installed in the traditional way (e.g. not an editable install), and/or make sure that setuptools is always imported before distutils.\n",
      "\n",
      "Setuptools is replacing distutils.\n",
      "\n",
      "Hint: Inferred schema contains integer column(s). Integer columns in Python cannot represent missing values. If your input data contains missing values at inference time, it will be encoded as floats and will cause a schema enforcement error. The best way to avoid this problem is to infer the model schema based on a realistic data sample (training dataset) that includes missing values. Alternatively, you can declare integer columns as doubles (float64) whenever these columns may have missing values. See `Handling Integers With Missing Values <https://www.mlflow.org/docs/latest/models.html#handling-integers-with-missing-values>`_ for more details.\n",
      "\n",
      "Distutils was imported before Setuptools, but importing Setuptools also replaces the `distutils` module in `sys.modules`. This may lead to undesirable behaviors or errors. To avoid these issues, avoid using distutils directly, ensure that setuptools is installed in the traditional way (e.g. not an editable install), and/or make sure that setuptools is always imported before distutils.\n",
      "\n",
      "Setuptools is replacing distutils.\n",
      "\n",
      "Downloading artifacts:   0%|          | 0/5 [00:00<?, ?it/s]\n",
      "\n",
      "Downloading artifacts:  20%|##        | 1/5 [00:00<00:00, 33.06it/s]\n",
      "\n",
      "Downloading artifacts:  40%|####      | 2/5 [00:00<00:00, 46.94it/s]\n",
      "\n",
      "Downloading artifacts:  60%|######    | 3/5 [00:00<00:00, 56.52it/s]\n",
      "\n",
      "Downloading artifacts:  80%|########  | 4/5 [00:00<00:00, 57.00it/s]\n",
      "\n",
      "Downloading artifacts: 100%|##########| 5/5 [00:00<00:00, 49.24it/s]\n",
      "\n",
      "Downloading artifacts: 100%|##########| 5/5 [00:00<00:00, 46.49it/s]\n",
      "Downloading artifacts:   0%|          | 0/5 [00:00<?, ?it/s]\n",
      "\n",
      "Downloading artifacts:  20%|##        | 1/5 [00:00<00:00, 41.12it/s]\n",
      "\n",
      "Downloading artifacts:  40%|####      | 2/5 [00:00<00:00, 56.48it/s]\n",
      "\n",
      "Downloading artifacts:  60%|######    | 3/5 [00:00<00:00, 66.89it/s]\n",
      "\n",
      "Downloading artifacts:  80%|########  | 4/5 [00:00<00:00, 54.12it/s]\n",
      "\n",
      "Downloading artifacts: 100%|##########| 5/5 [00:00<00:00, 63.19it/s]\n",
      "\n",
      "Downloading artifacts: 100%|##########| 5/5 [00:00<00:00, 59.52it/s]\n",
      "DataFrame.applymap has been deprecated. Use DataFrame.map instead.\n",
      "\n",
      "DataFrame.applymap has been deprecated. Use DataFrame.map instead.\n",
      "\n",
      "DataFrame.applymap has been deprecated. Use DataFrame.map instead.\n",
      "\n",
      "Hint: Inferred schema contains integer column(s). Integer columns in Python cannot represent missing values. If your input data contains missing values at inference time, it will be encoded as floats and will cause a schema enforcement error. The best way to avoid this problem is to infer the model schema based on a realistic data sample (training dataset) that includes missing values. Alternatively, you can declare integer columns as doubles (float64) whenever these columns may have missing values. See `Handling Integers With Missing Values <https://www.mlflow.org/docs/latest/models.html#handling-integers-with-missing-values>`_ for more details.\n",
      "\n",
      "2023/12/09 08:10:10 INFO mlflow.models.evaluation.base: Evaluating the model with the default evaluator.\n",
      "\n",
      "2023/12/09 08:10:10 INFO mlflow.models.evaluation.default_evaluator: Evaluating candidate model:\n",
      "\n",
      "2023/12/09 08:10:10 INFO mlflow.models.evaluation.default_evaluator: Computing model predictions.\n",
      "\n",
      "2023/12/09 08:10:10 INFO mlflow.models.evaluation.default_evaluator: The evaluation dataset is inferred as binary dataset, positive label is 1, negative label is 0.\n",
      "\n",
      "2023/12/09 08:10:11 INFO mlflow.models.evaluation.default_evaluator: Testing metrics on first row...\n",
      "\n",
      "2023/12/09 08:10:12 INFO mlflow.models.evaluation.default_evaluator: Shap explainer LinearExplainer is used.\n",
      "\n",
      "Unable to serialize underlying model using MLflow, will use SHAP serialization\n",
      "\n",
      "2023/12/09 08:10:12 WARNING mlflow.models.evaluation.default_evaluator: Logging explainer failed. Reason: AttributeError(\"'LogisticRegression' object has no attribute 'save'\"). Set logging level to DEBUG to see the full traceback.\n",
      "\n",
      "2023/12/09 08:10:15 INFO mlflow.models.evaluation.default_evaluator: Evaluating baseline model:\n",
      "\n",
      "2023/12/09 08:10:15 INFO mlflow.models.evaluation.default_evaluator: Computing model predictions.\n",
      "\n",
      "2023/12/09 08:10:15 INFO mlflow.models.evaluation.default_evaluator: The evaluation dataset is inferred as binary dataset, positive label is 1, negative label is 0.\n",
      "\n",
      "2023/12/09 08:10:15 INFO mlflow.models.evaluation.default_evaluator: Testing metrics on first row...\n",
      "\n",
      "2023/12/09 08:10:15 INFO mlflow.models.evaluation.base: Validating generated model metrics\n",
      "\n",
      "2023/12/09 08:10:15 INFO mlflow.models.evaluation.base: Model validation passed!\n",
      "\n"
     ]
    },
    {
     "name": "stdout",
     "output_type": "stream",
     "text": [
      "100%|██████████| 5/5 [01:25<00:00, 17.02s/trial, best loss: -0.8349507962534523]\n"
     ]
    }
   ],
   "source": [
    "best_result = fmin(fn=objective, space=search_space, algo=tpe.suggest, max_evals=5)"
   ]
  },
  {
   "cell_type": "code",
   "execution_count": null,
   "metadata": {},
   "outputs": [],
   "source": []
  }
 ],
 "metadata": {
  "kernelspec": {
   "display_name": "evn",
   "language": "python",
   "name": "python3"
  },
  "language_info": {
   "codemirror_mode": {
    "name": "ipython",
    "version": 3
   },
   "file_extension": ".py",
   "mimetype": "text/x-python",
   "name": "python",
   "nbconvert_exporter": "python",
   "pygments_lexer": "ipython3",
   "version": "3.11.4"
  }
 },
 "nbformat": 4,
 "nbformat_minor": 2
}
