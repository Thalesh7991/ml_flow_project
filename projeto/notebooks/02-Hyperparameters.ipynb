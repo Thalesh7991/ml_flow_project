{
 "cells": [
  {
   "cell_type": "markdown",
   "metadata": {},
   "source": [
    "# Imports"
   ]
  },
  {
   "cell_type": "code",
   "execution_count": 1,
   "metadata": {},
   "outputs": [
    {
     "name": "stderr",
     "output_type": "stream",
     "text": [
      "c:\\Users\\thale\\Documents\\Projetos_DS\\ml_flow\\evn\\Lib\\site-packages\\pydantic\\_internal\\_fields.py:149: UserWarning: Field \"model_server_url\" has conflict with protected namespace \"model_\".\n",
      "\n",
      "You may be able to resolve this warning by setting `model_config['protected_namespaces'] = ()`.\n",
      "  warnings.warn(\n",
      "c:\\Users\\thale\\Documents\\Projetos_DS\\ml_flow\\evn\\Lib\\site-packages\\pydantic\\_internal\\_config.py:318: UserWarning: Valid config keys have changed in V2:\n",
      "* 'schema_extra' has been renamed to 'json_schema_extra'\n",
      "  warnings.warn(message, UserWarning)\n"
     ]
    }
   ],
   "source": [
    "import sys\n",
    "import pandas as pd\n",
    "import joblib\n",
    "sys.path.insert(0, '../src/')\n",
    "\n",
    "from sklearn.pipeline import Pipeline\n",
    "from sklearn.linear_model import LogisticRegression\n",
    "from feature_engine.imputation import MeanMedianImputer\n",
    "from feature_engine.wrappers import SklearnTransformerWrapper\n",
    "from sklearn.preprocessing import RobustScaler, StandardScaler\n",
    "from feature_engine.discretisation import EqualFrequencyDiscretiser, EqualWidthDiscretiser\n",
    "\n",
    "\n",
    "from data.data_load import DataLoad\n",
    "from data.data_validation import DataValidation\n",
    "from data.data_transformation import DataTransformation\n",
    "from data.data_preprocess import DataPreprocess\n",
    "from utils.utils import load_config_file\n",
    "from train.train_model import TrainModel\n",
    "from evaluation.classifiers_eval import ModelEvaluation"
   ]
  },
  {
   "cell_type": "markdown",
   "metadata": {},
   "source": [
    "# 1.0 Data Load"
   ]
  },
  {
   "cell_type": "code",
   "execution_count": 2,
   "metadata": {},
   "outputs": [
    {
     "name": "stdout",
     "output_type": "stream",
     "text": [
      "2023-12-12 16:23:08 [info     ] Iniciando o carregamento\n"
     ]
    }
   ],
   "source": [
    "dl = DataLoad()\n",
    "df = dl.load_data('train_dataset_name')"
   ]
  },
  {
   "cell_type": "markdown",
   "metadata": {},
   "source": [
    "# 2.0 Data Validation"
   ]
  },
  {
   "cell_type": "code",
   "execution_count": 3,
   "metadata": {},
   "outputs": [
    {
     "name": "stdout",
     "output_type": "stream",
     "text": [
      "2023-12-12 16:23:08 [info     ] Validação iniciou..\n",
      "2023-12-12 16:23:08 [info     ] Validation columns passed...\n",
      "2023-12-12 16:23:08 [info     ] Validacao com sucesso.\n"
     ]
    }
   ],
   "source": [
    "dv = DataValidation()\n",
    "is_valid = dv.run(df)"
   ]
  },
  {
   "cell_type": "markdown",
   "metadata": {},
   "source": [
    "# 3.0 Data Transformation"
   ]
  },
  {
   "cell_type": "code",
   "execution_count": 4,
   "metadata": {},
   "outputs": [],
   "source": [
    "dt = DataTransformation(df)"
   ]
  },
  {
   "cell_type": "code",
   "execution_count": 5,
   "metadata": {},
   "outputs": [],
   "source": [
    "X_train, X_valid, y_train, y_valid = dt.train_test_split()"
   ]
  },
  {
   "cell_type": "markdown",
   "metadata": {},
   "source": [
    "# 4.0 Experimentations"
   ]
  },
  {
   "cell_type": "code",
   "execution_count": 6,
   "metadata": {},
   "outputs": [],
   "source": [
    "import mlflow\n",
    "from mlflow.tracking import MlflowClient"
   ]
  },
  {
   "cell_type": "code",
   "execution_count": 7,
   "metadata": {},
   "outputs": [
    {
     "data": {
      "text/plain": [
       "<Experiment: artifact_location='mlflow-artifacts:/1', creation_time=1701870074069, experiment_id='1', last_update_time=1701870074069, lifecycle_stage='active', name='prob_loan', tags={}>"
      ]
     },
     "execution_count": 7,
     "metadata": {},
     "output_type": "execute_result"
    }
   ],
   "source": [
    "mlflow.set_tracking_uri('http://127.0.0.1:5000')\n",
    "mlflow.set_experiment('prob_loan')"
   ]
  },
  {
   "cell_type": "markdown",
   "metadata": {},
   "source": [
    "## 4.1 Hyperparameters"
   ]
  },
  {
   "cell_type": "code",
   "execution_count": 8,
   "metadata": {},
   "outputs": [],
   "source": [
    "from mlflow.models import MetricThreshold\n",
    "from sklearn.dummy import DummyClassifier\n",
    "from mlflow.models import infer_signature"
   ]
  },
  {
   "cell_type": "code",
   "execution_count": 9,
   "metadata": {},
   "outputs": [],
   "source": [
    "from hyperopt import fmin, tpe, hp, STATUS_OK"
   ]
  },
  {
   "cell_type": "code",
   "execution_count": 10,
   "metadata": {},
   "outputs": [],
   "source": [
    "#preprocessar os dados\n",
    "pipe = Pipeline([\n",
    "    ('imputer', MeanMedianImputer(variables=load_config_file().get('vars_imputer'))),\n",
    "    ('discretizer', EqualFrequencyDiscretiser(variables=load_config_file().get('vars_discretizer'))),\n",
    "    ('scaler', SklearnTransformerWrapper(StandardScaler()))\n",
    "])"
   ]
  },
  {
   "cell_type": "code",
   "execution_count": 11,
   "metadata": {},
   "outputs": [],
   "source": [
    "def objective(params):\n",
    "    with mlflow.start_run(run_name='with_discretizer_hyperopt'):\n",
    "        mlflow.set_tag('model_name', 'lr_hyperopt')\n",
    "        mlflow.log_params(params)\n",
    "\n",
    "\n",
    "        preprocessador = DataPreprocess(pipe)\n",
    "        preprocessador.train(X_train)\n",
    "\n",
    "        X_train_processed = preprocessador.transform(X_train)\n",
    "        X_valid_processed = preprocessador.transform(X_valid)\n",
    "        joblib.dump(preprocessador, '../models/preprocess.joblib')\n",
    "\n",
    "        # logar um artefato (preprocessador)\n",
    "        mlflow.log_artifact('../models/preprocess.joblib')\n",
    "\n",
    "        # logar os parametros do preprocessador\n",
    "        mlflow.log_params(params={'imputer': pipe['imputer'],\n",
    "                                'discretizer': pipe['discretizer'],\n",
    "                                'scaler': pipe['scaler']})\n",
    "\n",
    "        # Inicia o experimento com cross validation\n",
    "        model = LogisticRegression(**params)\n",
    "        model_eval = ModelEvaluation(model, X_train_processed, y_train, n_splits=5)\n",
    "\n",
    "        roc_auc_scores = model_eval.cross_val_evaluate()\n",
    "\n",
    "        # logar o resultado da performance\n",
    "        mlflow.log_metric('train_roc_auc', roc_auc_scores.mean())\n",
    "\n",
    "        # treinar modelo\n",
    "        model.fit(X_train_processed, y_train)\n",
    "\n",
    "        # salvar as metricas de validacao\n",
    "        y_val_preds = model_eval.model.predict_proba(X_valid_processed)[:,1]\n",
    "        val_roc_auc = model_eval.evaluate_predictions(y_valid, y_val_preds)\n",
    "\n",
    "        mlflow.log_metric('valid_roc_auc', val_roc_auc)\n",
    "\n",
    "        # logar o modelo\n",
    "        candidate_model_uri = mlflow.sklearn.log_model(model, 'lr_model').model_uri\n",
    "\n",
    "\n",
    "        #########\n",
    "        signature = infer_signature(X_valid_processed, y_valid)\n",
    "\n",
    "        eval_data = X_valid_processed\n",
    "        eval_data['label'] = y_valid\n",
    "        thresholds = {\n",
    "            \"accuracy_score\": MetricThreshold(\n",
    "                threshold=0.1, # o score da accuracy precisa ser maior que 0.7 para ser salvo\n",
    "                min_absolute_change=0.05,\n",
    "                min_relative_change=0.05,\n",
    "                greater_is_better=True\n",
    "            )\n",
    "        }\n",
    "\n",
    "        baseline_model = DummyClassifier(strategy='uniform').fit(X_train_processed, y_train)\n",
    "        baseline_model_uri = mlflow.sklearn.log_model(baseline_model, 'baseline_model', signature=signature).model_uri\n",
    "\n",
    "        #Processo de avaliação do mlflow\n",
    "        mlflow.evaluate(candidate_model_uri, eval_data, targets='label', model_type='classifier', validation_thresholds=thresholds,baseline_model=baseline_model_uri)\n",
    "\n",
    "        mlflow.end_run()\n",
    "\n",
    "        return {'loss': -roc_auc_scores.mean(), 'status': STATUS_OK}\n"
   ]
  },
  {
   "cell_type": "code",
   "execution_count": 12,
   "metadata": {},
   "outputs": [],
   "source": [
    "search_space = {\n",
    "    'warm_start': hp.choice('warm_start', [True,False]),\n",
    "    'fit_intercept': hp.choice('fit_intercept', [True,False]),\n",
    "    'tol': hp.uniform('tol', 0.00001, 0.0001),\n",
    "    'C': hp.uniform('C', 0.05, 3),\n",
    "    'solver': hp.choice('solver', ['newton-cg', 'lbfgs', 'liblinear']),\n",
    "    'max_iter': hp.choice('max_iter', range(100,1000)),\n",
    "    'multi_class': 'auto',\n",
    "    'class_weight': hp.choice('class_weight', [None,'balanced'])\n",
    "}"
   ]
  },
  {
   "cell_type": "code",
   "execution_count": 13,
   "metadata": {},
   "outputs": [
    {
     "name": "stdout",
     "output_type": "stream",
     "text": [
      "2023-12-12 16:23:10                                   [info     ] Iniciando o processamento\n",
      "2023-12-12 16:23:10                                   [info     ] Iniciando a Transformação\n",
      "2023-12-12 16:23:10                                   [info     ] Iniciando a Transformação\n",
      "2023-12-12 16:23:10                                   [info     ] Iniciando a Cross Validation...\n",
      "  0%|          | 0/5 [00:00<?, ?trial/s, best loss=?]"
     ]
    },
    {
     "name": "stderr",
     "output_type": "stream",
     "text": [
      "c:\\Users\\thale\\Documents\\Projetos_DS\\ml_flow\\evn\\Lib\\site-packages\\mlflow\\models\\signature.py:213: UserWarning: Hint: Inferred schema contains integer column(s). Integer columns in Python cannot represent missing values. If your input data contains missing values at inference time, it will be encoded as floats and will cause a schema enforcement error. The best way to avoid this problem is to infer the model schema based on a realistic data sample (training dataset) that includes missing values. Alternatively, you can declare integer columns as doubles (float64) whenever these columns may have missing values. See `Handling Integers With Missing Values <https://www.mlflow.org/docs/latest/models.html#handling-integers-with-missing-values>`_ for more details.\n",
      "  outputs = _infer_schema(model_output) if model_output is not None else None\n",
      "\n",
      "c:\\Users\\thale\\Documents\\Projetos_DS\\ml_flow\\evn\\Lib\\site-packages\\_distutils_hack\\__init__.py:18: UserWarning: Distutils was imported before Setuptools, but importing Setuptools also replaces the `distutils` module in `sys.modules`. This may lead to undesirable behaviors or errors. To avoid these issues, avoid using distutils directly, ensure that setuptools is installed in the traditional way (e.g. not an editable install), and/or make sure that setuptools is always imported before distutils.\n",
      "  warnings.warn(\n",
      "\n",
      "c:\\Users\\thale\\Documents\\Projetos_DS\\ml_flow\\evn\\Lib\\site-packages\\_distutils_hack\\__init__.py:33: UserWarning: Setuptools is replacing distutils.\n",
      "  warnings.warn(\"Setuptools is replacing distutils.\")\n",
      "\n",
      "c:\\Users\\thale\\Documents\\Projetos_DS\\ml_flow\\evn\\Lib\\site-packages\\tqdm\\auto.py:21: TqdmWarning: IProgress not found. Please update jupyter and ipywidgets. See https://ipywidgets.readthedocs.io/en/stable/user_install.html\n",
      "  from .autonotebook import tqdm as notebook_tqdm\n",
      "\n",
      "Downloading artifacts:   0%|          | 0/5 [00:00<?, ?it/s]\n",
      "\n",
      "Downloading artifacts:  20%|##        | 1/5 [00:00<00:00, 23.28it/s]\n",
      "\n",
      "Downloading artifacts:  40%|####      | 2/5 [00:00<00:00, 40.49it/s]\n",
      "\n",
      "Downloading artifacts:  60%|######    | 3/5 [00:00<00:00, 47.36it/s]\n",
      "\n",
      "Downloading artifacts:  80%|########  | 4/5 [00:00<00:00, 60.74it/s]\n",
      "\n",
      "Downloading artifacts: 100%|##########| 5/5 [00:00<00:00, 73.20it/s]\n",
      "\n",
      "Downloading artifacts: 100%|##########| 5/5 [00:00<00:00, 66.77it/s]\n",
      "Downloading artifacts:   0%|          | 0/5 [00:00<?, ?it/s]\n",
      "\n",
      "Downloading artifacts:  20%|##        | 1/5 [00:00<00:00, 34.34it/s]\n",
      "\n",
      "Downloading artifacts:  40%|####      | 2/5 [00:00<00:00, 42.82it/s]\n",
      "\n",
      "Downloading artifacts:  60%|######    | 3/5 [00:00<00:00, 53.77it/s]\n",
      "\n",
      "Downloading artifacts:  80%|########  | 4/5 [00:00<00:00, 60.27it/s]\n",
      "\n",
      "Downloading artifacts: 100%|##########| 5/5 [00:00<00:00, 60.34it/s]\n",
      "\n",
      "Downloading artifacts: 100%|##########| 5/5 [00:00<00:00, 58.19it/s]\n",
      "c:\\Users\\thale\\Documents\\Projetos_DS\\ml_flow\\evn\\Lib\\site-packages\\mlflow\\data\\digest_utils.py:26: FutureWarning: DataFrame.applymap has been deprecated. Use DataFrame.map instead.\n",
      "  string_columns = trimmed_df.columns[(df.applymap(type) == str).all(0)]\n",
      "\n",
      "c:\\Users\\thale\\Documents\\Projetos_DS\\ml_flow\\evn\\Lib\\site-packages\\mlflow\\models\\evaluation\\base.py:414: FutureWarning: DataFrame.applymap has been deprecated. Use DataFrame.map instead.\n",
      "  data = data.applymap(_hash_array_like_element_as_bytes)\n",
      "\n",
      "c:\\Users\\thale\\Documents\\Projetos_DS\\ml_flow\\evn\\Lib\\site-packages\\mlflow\\models\\evaluation\\base.py:414: FutureWarning: DataFrame.applymap has been deprecated. Use DataFrame.map instead.\n",
      "  data = data.applymap(_hash_array_like_element_as_bytes)\n",
      "\n",
      "c:\\Users\\thale\\Documents\\Projetos_DS\\ml_flow\\evn\\Lib\\site-packages\\mlflow\\data\\pandas_dataset.py:134: UserWarning: Hint: Inferred schema contains integer column(s). Integer columns in Python cannot represent missing values. If your input data contains missing values at inference time, it will be encoded as floats and will cause a schema enforcement error. The best way to avoid this problem is to infer the model schema based on a realistic data sample (training dataset) that includes missing values. Alternatively, you can declare integer columns as doubles (float64) whenever these columns may have missing values. See `Handling Integers With Missing Values <https://www.mlflow.org/docs/latest/models.html#handling-integers-with-missing-values>`_ for more details.\n",
      "  return _infer_schema(self._df)\n",
      "\n",
      "2023/12/12 16:23:24 INFO mlflow.models.evaluation.base: Evaluating the model with the default evaluator.\n",
      "\n",
      "2023/12/12 16:23:24 INFO mlflow.models.evaluation.default_evaluator: Evaluating candidate model:\n",
      "\n",
      "2023/12/12 16:23:24 INFO mlflow.models.evaluation.default_evaluator: Computing model predictions.\n",
      "\n",
      "2023/12/12 16:23:24 INFO mlflow.models.evaluation.default_evaluator: The evaluation dataset is inferred as binary dataset, positive label is 1, negative label is 0.\n",
      "\n",
      "2023/12/12 16:23:24 INFO mlflow.models.evaluation.default_evaluator: Testing metrics on first row...\n",
      "\n",
      "2023/12/12 16:23:28 INFO mlflow.models.evaluation.default_evaluator: Shap explainer LinearExplainer is used.\n",
      "\n",
      "Unable to serialize underlying model using MLflow, will use SHAP serialization\n",
      "\n",
      "2023/12/12 16:23:28 WARNING mlflow.models.evaluation.default_evaluator: Logging explainer failed. Reason: AttributeError(\"'LogisticRegression' object has no attribute 'save'\"). Set logging level to DEBUG to see the full traceback.\n",
      "\n",
      "2023/12/12 16:23:30 INFO mlflow.models.evaluation.default_evaluator: Evaluating baseline model:\n",
      "\n",
      "2023/12/12 16:23:30 INFO mlflow.models.evaluation.default_evaluator: Computing model predictions.\n",
      "\n",
      "2023/12/12 16:23:30 INFO mlflow.models.evaluation.default_evaluator: The evaluation dataset is inferred as binary dataset, positive label is 1, negative label is 0.\n",
      "\n",
      "2023/12/12 16:23:30 INFO mlflow.models.evaluation.default_evaluator: Testing metrics on first row...\n",
      "\n",
      "2023/12/12 16:23:30 INFO mlflow.models.evaluation.base: Validating generated model metrics\n",
      "\n",
      "2023/12/12 16:23:30 INFO mlflow.models.evaluation.base: Model validation passed!\n",
      "\n"
     ]
    },
    {
     "name": "stdout",
     "output_type": "stream",
     "text": [
      "2023-12-12 16:23:31                                                              [info     ] Iniciando o processamento\n",
      "2023-12-12 16:23:31                                                              [info     ] Iniciando a Transformação\n",
      "2023-12-12 16:23:31                                                              [info     ] Iniciando a Transformação\n",
      "2023-12-12 16:23:31                                                              [info     ] Iniciando a Cross Validation...\n",
      " 20%|██        | 1/5 [00:21<01:25, 21.35s/trial, best loss: -0.8349499232316692]"
     ]
    },
    {
     "name": "stderr",
     "output_type": "stream",
     "text": [
      "Distutils was imported before Setuptools, but importing Setuptools also replaces the `distutils` module in `sys.modules`. This may lead to undesirable behaviors or errors. To avoid these issues, avoid using distutils directly, ensure that setuptools is installed in the traditional way (e.g. not an editable install), and/or make sure that setuptools is always imported before distutils.\n",
      "\n",
      "Setuptools is replacing distutils.\n",
      "\n",
      "Hint: Inferred schema contains integer column(s). Integer columns in Python cannot represent missing values. If your input data contains missing values at inference time, it will be encoded as floats and will cause a schema enforcement error. The best way to avoid this problem is to infer the model schema based on a realistic data sample (training dataset) that includes missing values. Alternatively, you can declare integer columns as doubles (float64) whenever these columns may have missing values. See `Handling Integers With Missing Values <https://www.mlflow.org/docs/latest/models.html#handling-integers-with-missing-values>`_ for more details.\n",
      "\n",
      "Distutils was imported before Setuptools, but importing Setuptools also replaces the `distutils` module in `sys.modules`. This may lead to undesirable behaviors or errors. To avoid these issues, avoid using distutils directly, ensure that setuptools is installed in the traditional way (e.g. not an editable install), and/or make sure that setuptools is always imported before distutils.\n",
      "\n",
      "Setuptools is replacing distutils.\n",
      "\n",
      "Downloading artifacts:   0%|          | 0/5 [00:00<?, ?it/s]\n",
      "\n",
      "Downloading artifacts:  20%|##        | 1/5 [00:00<00:00, 42.11it/s]\n",
      "\n",
      "Downloading artifacts:  40%|####      | 2/5 [00:00<00:00, 66.17it/s]\n",
      "\n",
      "Downloading artifacts:  60%|######    | 3/5 [00:00<00:00, 59.80it/s]\n",
      "\n",
      "Downloading artifacts:  80%|########  | 4/5 [00:00<00:00, 65.90it/s]\n",
      "\n",
      "Downloading artifacts: 100%|##########| 5/5 [00:00<00:00, 77.77it/s]\n",
      "\n",
      "Downloading artifacts: 100%|##########| 5/5 [00:00<00:00, 74.89it/s]\n",
      "Downloading artifacts:   0%|          | 0/5 [00:00<?, ?it/s]\n",
      "\n",
      "Downloading artifacts:  20%|##        | 1/5 [00:00<00:00, 41.07it/s]\n",
      "\n",
      "Downloading artifacts:  40%|####      | 2/5 [00:00<00:00, 56.82it/s]\n",
      "\n",
      "Downloading artifacts:  60%|######    | 3/5 [00:00<00:00, 57.85it/s]\n",
      "\n",
      "Downloading artifacts:  80%|########  | 4/5 [00:00<00:00, 58.20it/s]\n",
      "\n",
      "Downloading artifacts: 100%|##########| 5/5 [00:00<00:00, 59.91it/s]\n",
      "\n",
      "Downloading artifacts: 100%|##########| 5/5 [00:00<00:00, 57.07it/s]\n",
      "DataFrame.applymap has been deprecated. Use DataFrame.map instead.\n",
      "\n",
      "DataFrame.applymap has been deprecated. Use DataFrame.map instead.\n",
      "\n",
      "DataFrame.applymap has been deprecated. Use DataFrame.map instead.\n",
      "\n",
      "Hint: Inferred schema contains integer column(s). Integer columns in Python cannot represent missing values. If your input data contains missing values at inference time, it will be encoded as floats and will cause a schema enforcement error. The best way to avoid this problem is to infer the model schema based on a realistic data sample (training dataset) that includes missing values. Alternatively, you can declare integer columns as doubles (float64) whenever these columns may have missing values. See `Handling Integers With Missing Values <https://www.mlflow.org/docs/latest/models.html#handling-integers-with-missing-values>`_ for more details.\n",
      "\n",
      "2023/12/12 16:23:41 INFO mlflow.models.evaluation.base: Evaluating the model with the default evaluator.\n",
      "\n",
      "2023/12/12 16:23:41 INFO mlflow.models.evaluation.default_evaluator: Evaluating candidate model:\n",
      "\n",
      "2023/12/12 16:23:41 INFO mlflow.models.evaluation.default_evaluator: Computing model predictions.\n",
      "\n",
      "2023/12/12 16:23:41 INFO mlflow.models.evaluation.default_evaluator: The evaluation dataset is inferred as binary dataset, positive label is 1, negative label is 0.\n",
      "\n",
      "2023/12/12 16:23:41 INFO mlflow.models.evaluation.default_evaluator: Testing metrics on first row...\n",
      "\n",
      "2023/12/12 16:23:43 INFO mlflow.models.evaluation.default_evaluator: Shap explainer LinearExplainer is used.\n",
      "\n",
      "Unable to serialize underlying model using MLflow, will use SHAP serialization\n",
      "\n",
      "2023/12/12 16:23:43 WARNING mlflow.models.evaluation.default_evaluator: Logging explainer failed. Reason: AttributeError(\"'LogisticRegression' object has no attribute 'save'\"). Set logging level to DEBUG to see the full traceback.\n",
      "\n",
      "2023/12/12 16:23:45 INFO mlflow.models.evaluation.default_evaluator: Evaluating baseline model:\n",
      "\n",
      "2023/12/12 16:23:45 INFO mlflow.models.evaluation.default_evaluator: Computing model predictions.\n",
      "\n",
      "2023/12/12 16:23:45 INFO mlflow.models.evaluation.default_evaluator: The evaluation dataset is inferred as binary dataset, positive label is 1, negative label is 0.\n",
      "\n",
      "2023/12/12 16:23:45 INFO mlflow.models.evaluation.default_evaluator: Testing metrics on first row...\n",
      "\n",
      "2023/12/12 16:23:45 INFO mlflow.models.evaluation.base: Validating generated model metrics\n",
      "\n",
      "2023/12/12 16:23:45 INFO mlflow.models.evaluation.base: Model validation passed!\n",
      "\n"
     ]
    },
    {
     "name": "stdout",
     "output_type": "stream",
     "text": [
      "2023-12-12 16:23:45                                                              [info     ] Iniciando o processamento\n",
      "2023-12-12 16:23:45                                                              [info     ] Iniciando a Transformação\n",
      "2023-12-12 16:23:45                                                              [info     ] Iniciando a Transformação\n",
      "2023-12-12 16:23:46                                                              [info     ] Iniciando a Cross Validation...\n",
      " 40%|████      | 2/5 [00:36<00:52, 17.45s/trial, best loss: -0.8473275832338608]"
     ]
    },
    {
     "name": "stderr",
     "output_type": "stream",
     "text": [
      "Distutils was imported before Setuptools, but importing Setuptools also replaces the `distutils` module in `sys.modules`. This may lead to undesirable behaviors or errors. To avoid these issues, avoid using distutils directly, ensure that setuptools is installed in the traditional way (e.g. not an editable install), and/or make sure that setuptools is always imported before distutils.\n",
      "\n",
      "Setuptools is replacing distutils.\n",
      "\n",
      "Hint: Inferred schema contains integer column(s). Integer columns in Python cannot represent missing values. If your input data contains missing values at inference time, it will be encoded as floats and will cause a schema enforcement error. The best way to avoid this problem is to infer the model schema based on a realistic data sample (training dataset) that includes missing values. Alternatively, you can declare integer columns as doubles (float64) whenever these columns may have missing values. See `Handling Integers With Missing Values <https://www.mlflow.org/docs/latest/models.html#handling-integers-with-missing-values>`_ for more details.\n",
      "\n",
      "Distutils was imported before Setuptools, but importing Setuptools also replaces the `distutils` module in `sys.modules`. This may lead to undesirable behaviors or errors. To avoid these issues, avoid using distutils directly, ensure that setuptools is installed in the traditional way (e.g. not an editable install), and/or make sure that setuptools is always imported before distutils.\n",
      "\n",
      "Setuptools is replacing distutils.\n",
      "\n",
      "Downloading artifacts:   0%|          | 0/5 [00:00<?, ?it/s]\n",
      "\n",
      "Downloading artifacts:  20%|##        | 1/5 [00:00<00:00, 41.29it/s]\n",
      "\n",
      "Downloading artifacts:  40%|####      | 2/5 [00:00<00:00, 38.76it/s]\n",
      "\n",
      "Downloading artifacts:  60%|######    | 3/5 [00:00<00:00, 48.29it/s]\n",
      "\n",
      "Downloading artifacts:  80%|########  | 4/5 [00:00<00:00, 54.25it/s]\n",
      "\n",
      "Downloading artifacts: 100%|##########| 5/5 [00:00<00:00, 60.18it/s]\n",
      "\n",
      "Downloading artifacts: 100%|##########| 5/5 [00:00<00:00, 54.54it/s]\n",
      "Downloading artifacts:   0%|          | 0/5 [00:00<?, ?it/s]\n",
      "\n",
      "Downloading artifacts:  20%|##        | 1/5 [00:00<00:00, 35.07it/s]\n",
      "\n",
      "Downloading artifacts:  40%|####      | 2/5 [00:00<00:00, 54.61it/s]\n",
      "\n",
      "Downloading artifacts:  60%|######    | 3/5 [00:00<00:00, 75.50it/s]\n",
      "\n",
      "Downloading artifacts:  80%|########  | 4/5 [00:00<00:00, 78.22it/s]\n",
      "\n",
      "Downloading artifacts: 100%|##########| 5/5 [00:00<00:00, 79.47it/s]\n",
      "\n",
      "Downloading artifacts: 100%|##########| 5/5 [00:00<00:00, 74.05it/s]\n",
      "DataFrame.applymap has been deprecated. Use DataFrame.map instead.\n",
      "\n",
      "DataFrame.applymap has been deprecated. Use DataFrame.map instead.\n",
      "\n",
      "DataFrame.applymap has been deprecated. Use DataFrame.map instead.\n",
      "\n",
      "Hint: Inferred schema contains integer column(s). Integer columns in Python cannot represent missing values. If your input data contains missing values at inference time, it will be encoded as floats and will cause a schema enforcement error. The best way to avoid this problem is to infer the model schema based on a realistic data sample (training dataset) that includes missing values. Alternatively, you can declare integer columns as doubles (float64) whenever these columns may have missing values. See `Handling Integers With Missing Values <https://www.mlflow.org/docs/latest/models.html#handling-integers-with-missing-values>`_ for more details.\n",
      "\n",
      "2023/12/12 16:23:55 INFO mlflow.models.evaluation.base: Evaluating the model with the default evaluator.\n",
      "\n",
      "2023/12/12 16:23:55 INFO mlflow.models.evaluation.default_evaluator: Evaluating candidate model:\n",
      "\n",
      "2023/12/12 16:23:55 INFO mlflow.models.evaluation.default_evaluator: Computing model predictions.\n",
      "\n",
      "2023/12/12 16:23:55 INFO mlflow.models.evaluation.default_evaluator: The evaluation dataset is inferred as binary dataset, positive label is 1, negative label is 0.\n",
      "\n",
      "2023/12/12 16:23:55 INFO mlflow.models.evaluation.default_evaluator: Testing metrics on first row...\n",
      "\n",
      "2023/12/12 16:23:57 INFO mlflow.models.evaluation.default_evaluator: Shap explainer LinearExplainer is used.\n",
      "\n",
      "Unable to serialize underlying model using MLflow, will use SHAP serialization\n",
      "\n",
      "2023/12/12 16:23:57 WARNING mlflow.models.evaluation.default_evaluator: Logging explainer failed. Reason: AttributeError(\"'LogisticRegression' object has no attribute 'save'\"). Set logging level to DEBUG to see the full traceback.\n",
      "\n",
      "2023/12/12 16:23:59 INFO mlflow.models.evaluation.default_evaluator: Evaluating baseline model:\n",
      "\n",
      "2023/12/12 16:23:59 INFO mlflow.models.evaluation.default_evaluator: Computing model predictions.\n",
      "\n",
      "2023/12/12 16:23:59 INFO mlflow.models.evaluation.default_evaluator: The evaluation dataset is inferred as binary dataset, positive label is 1, negative label is 0.\n",
      "\n",
      "2023/12/12 16:24:00 INFO mlflow.models.evaluation.default_evaluator: Testing metrics on first row...\n",
      "\n",
      "2023/12/12 16:24:00 INFO mlflow.models.evaluation.base: Validating generated model metrics\n",
      "\n",
      "2023/12/12 16:24:00 INFO mlflow.models.evaluation.base: Model validation passed!\n",
      "\n"
     ]
    },
    {
     "name": "stdout",
     "output_type": "stream",
     "text": [
      "2023-12-12 16:24:00                                                              [info     ] Iniciando o processamento\n",
      "2023-12-12 16:24:00                                                              [info     ] Iniciando a Transformação\n",
      "2023-12-12 16:24:00                                                              [info     ] Iniciando a Transformação\n",
      "2023-12-12 16:24:00                                                              [info     ] Iniciando a Cross Validation...\n",
      " 60%|██████    | 3/5 [00:50<00:32, 16.08s/trial, best loss: -0.8473275832338608]"
     ]
    },
    {
     "name": "stderr",
     "output_type": "stream",
     "text": [
      "Distutils was imported before Setuptools, but importing Setuptools also replaces the `distutils` module in `sys.modules`. This may lead to undesirable behaviors or errors. To avoid these issues, avoid using distutils directly, ensure that setuptools is installed in the traditional way (e.g. not an editable install), and/or make sure that setuptools is always imported before distutils.\n",
      "\n",
      "Setuptools is replacing distutils.\n",
      "\n",
      "Hint: Inferred schema contains integer column(s). Integer columns in Python cannot represent missing values. If your input data contains missing values at inference time, it will be encoded as floats and will cause a schema enforcement error. The best way to avoid this problem is to infer the model schema based on a realistic data sample (training dataset) that includes missing values. Alternatively, you can declare integer columns as doubles (float64) whenever these columns may have missing values. See `Handling Integers With Missing Values <https://www.mlflow.org/docs/latest/models.html#handling-integers-with-missing-values>`_ for more details.\n",
      "\n",
      "Distutils was imported before Setuptools, but importing Setuptools also replaces the `distutils` module in `sys.modules`. This may lead to undesirable behaviors or errors. To avoid these issues, avoid using distutils directly, ensure that setuptools is installed in the traditional way (e.g. not an editable install), and/or make sure that setuptools is always imported before distutils.\n",
      "\n",
      "Setuptools is replacing distutils.\n",
      "\n",
      "Downloading artifacts:   0%|          | 0/5 [00:00<?, ?it/s]\n",
      "\n",
      "Downloading artifacts:  20%|##        | 1/5 [00:00<00:00, 43.32it/s]\n",
      "\n",
      "Downloading artifacts:  40%|####      | 2/5 [00:00<00:00, 68.25it/s]\n",
      "\n",
      "Downloading artifacts:  60%|######    | 3/5 [00:00<00:00, 71.79it/s]\n",
      "\n",
      "Downloading artifacts:  80%|########  | 4/5 [00:00<00:00, 76.04it/s]\n",
      "\n",
      "Downloading artifacts: 100%|##########| 5/5 [00:00<00:00, 64.92it/s]\n",
      "\n",
      "Downloading artifacts: 100%|##########| 5/5 [00:00<00:00, 61.32it/s]\n",
      "Downloading artifacts:   0%|          | 0/5 [00:00<?, ?it/s]\n",
      "\n",
      "Downloading artifacts:  20%|##        | 1/5 [00:00<00:00, 40.95it/s]\n",
      "\n",
      "Downloading artifacts:  40%|####      | 2/5 [00:00<00:00, 61.38it/s]\n",
      "\n",
      "Downloading artifacts:  60%|######    | 3/5 [00:00<00:00, 69.22it/s]\n",
      "\n",
      "Downloading artifacts:  80%|########  | 4/5 [00:00<00:00, 77.10it/s]\n",
      "\n",
      "Downloading artifacts: 100%|##########| 5/5 [00:00<00:00, 72.68it/s]\n",
      "\n",
      "Downloading artifacts: 100%|##########| 5/5 [00:00<00:00, 69.65it/s]\n",
      "DataFrame.applymap has been deprecated. Use DataFrame.map instead.\n",
      "\n",
      "DataFrame.applymap has been deprecated. Use DataFrame.map instead.\n",
      "\n",
      "DataFrame.applymap has been deprecated. Use DataFrame.map instead.\n",
      "\n",
      "Hint: Inferred schema contains integer column(s). Integer columns in Python cannot represent missing values. If your input data contains missing values at inference time, it will be encoded as floats and will cause a schema enforcement error. The best way to avoid this problem is to infer the model schema based on a realistic data sample (training dataset) that includes missing values. Alternatively, you can declare integer columns as doubles (float64) whenever these columns may have missing values. See `Handling Integers With Missing Values <https://www.mlflow.org/docs/latest/models.html#handling-integers-with-missing-values>`_ for more details.\n",
      "\n",
      "2023/12/12 16:24:09 INFO mlflow.models.evaluation.base: Evaluating the model with the default evaluator.\n",
      "\n",
      "2023/12/12 16:24:09 INFO mlflow.models.evaluation.default_evaluator: Evaluating candidate model:\n",
      "\n",
      "2023/12/12 16:24:09 INFO mlflow.models.evaluation.default_evaluator: Computing model predictions.\n",
      "\n",
      "2023/12/12 16:24:09 INFO mlflow.models.evaluation.default_evaluator: The evaluation dataset is inferred as binary dataset, positive label is 1, negative label is 0.\n",
      "\n",
      "2023/12/12 16:24:09 INFO mlflow.models.evaluation.default_evaluator: Testing metrics on first row...\n",
      "\n",
      "2023/12/12 16:24:11 INFO mlflow.models.evaluation.default_evaluator: Shap explainer LinearExplainer is used.\n",
      "\n",
      "Unable to serialize underlying model using MLflow, will use SHAP serialization\n",
      "\n",
      "2023/12/12 16:24:11 WARNING mlflow.models.evaluation.default_evaluator: Logging explainer failed. Reason: AttributeError(\"'LogisticRegression' object has no attribute 'save'\"). Set logging level to DEBUG to see the full traceback.\n",
      "\n",
      "2023/12/12 16:24:14 INFO mlflow.models.evaluation.default_evaluator: Evaluating baseline model:\n",
      "\n",
      "2023/12/12 16:24:14 INFO mlflow.models.evaluation.default_evaluator: Computing model predictions.\n",
      "\n",
      "2023/12/12 16:24:14 INFO mlflow.models.evaluation.default_evaluator: The evaluation dataset is inferred as binary dataset, positive label is 1, negative label is 0.\n",
      "\n",
      "2023/12/12 16:24:14 INFO mlflow.models.evaluation.default_evaluator: Testing metrics on first row...\n",
      "\n",
      "2023/12/12 16:24:14 INFO mlflow.models.evaluation.base: Validating generated model metrics\n",
      "\n",
      "2023/12/12 16:24:14 INFO mlflow.models.evaluation.base: Model validation passed!\n",
      "\n"
     ]
    },
    {
     "name": "stdout",
     "output_type": "stream",
     "text": [
      "2023-12-12 16:24:14                                                              [info     ] Iniciando o processamento\n",
      "2023-12-12 16:24:14                                                              [info     ] Iniciando a Transformação\n",
      "2023-12-12 16:24:14                                                              [info     ] Iniciando a Transformação\n",
      "2023-12-12 16:24:14                                                              [info     ] Iniciando a Cross Validation...\n",
      " 80%|████████  | 4/5 [01:05<00:15, 15.33s/trial, best loss: -0.8473275832338608]"
     ]
    },
    {
     "name": "stderr",
     "output_type": "stream",
     "text": [
      "Distutils was imported before Setuptools, but importing Setuptools also replaces the `distutils` module in `sys.modules`. This may lead to undesirable behaviors or errors. To avoid these issues, avoid using distutils directly, ensure that setuptools is installed in the traditional way (e.g. not an editable install), and/or make sure that setuptools is always imported before distutils.\n",
      "\n",
      "Setuptools is replacing distutils.\n",
      "\n",
      "Hint: Inferred schema contains integer column(s). Integer columns in Python cannot represent missing values. If your input data contains missing values at inference time, it will be encoded as floats and will cause a schema enforcement error. The best way to avoid this problem is to infer the model schema based on a realistic data sample (training dataset) that includes missing values. Alternatively, you can declare integer columns as doubles (float64) whenever these columns may have missing values. See `Handling Integers With Missing Values <https://www.mlflow.org/docs/latest/models.html#handling-integers-with-missing-values>`_ for more details.\n",
      "\n",
      "Distutils was imported before Setuptools, but importing Setuptools also replaces the `distutils` module in `sys.modules`. This may lead to undesirable behaviors or errors. To avoid these issues, avoid using distutils directly, ensure that setuptools is installed in the traditional way (e.g. not an editable install), and/or make sure that setuptools is always imported before distutils.\n",
      "\n",
      "Setuptools is replacing distutils.\n",
      "\n",
      "Downloading artifacts:   0%|          | 0/5 [00:00<?, ?it/s]\n",
      "\n",
      "Downloading artifacts:  20%|##        | 1/5 [00:00<00:00, 40.87it/s]\n",
      "\n",
      "Downloading artifacts:  40%|####      | 2/5 [00:00<00:00, 61.77it/s]\n",
      "\n",
      "Downloading artifacts:  60%|######    | 3/5 [00:00<00:00, 56.51it/s]\n",
      "\n",
      "Downloading artifacts:  80%|########  | 4/5 [00:00<00:00, 67.62it/s]\n",
      "\n",
      "Downloading artifacts: 100%|##########| 5/5 [00:00<00:00, 74.95it/s]\n",
      "\n",
      "Downloading artifacts: 100%|##########| 5/5 [00:00<00:00, 71.15it/s]\n",
      "Downloading artifacts:   0%|          | 0/5 [00:00<?, ?it/s]\n",
      "\n",
      "Downloading artifacts:  20%|##        | 1/5 [00:00<00:00, 38.61it/s]\n",
      "\n",
      "Downloading artifacts:  40%|####      | 2/5 [00:00<00:00, 51.90it/s]\n",
      "\n",
      "Downloading artifacts:  60%|######    | 3/5 [00:00<00:00, 57.61it/s]\n",
      "\n",
      "Downloading artifacts:  80%|########  | 4/5 [00:00<00:00, 55.10it/s]\n",
      "\n",
      "Downloading artifacts: 100%|##########| 5/5 [00:00<00:00, 60.90it/s]\n",
      "\n",
      "Downloading artifacts: 100%|##########| 5/5 [00:00<00:00, 56.28it/s]\n",
      "DataFrame.applymap has been deprecated. Use DataFrame.map instead.\n",
      "\n",
      "DataFrame.applymap has been deprecated. Use DataFrame.map instead.\n",
      "\n",
      "DataFrame.applymap has been deprecated. Use DataFrame.map instead.\n",
      "\n",
      "Hint: Inferred schema contains integer column(s). Integer columns in Python cannot represent missing values. If your input data contains missing values at inference time, it will be encoded as floats and will cause a schema enforcement error. The best way to avoid this problem is to infer the model schema based on a realistic data sample (training dataset) that includes missing values. Alternatively, you can declare integer columns as doubles (float64) whenever these columns may have missing values. See `Handling Integers With Missing Values <https://www.mlflow.org/docs/latest/models.html#handling-integers-with-missing-values>`_ for more details.\n",
      "\n",
      "2023/12/12 16:24:23 INFO mlflow.models.evaluation.base: Evaluating the model with the default evaluator.\n",
      "\n",
      "2023/12/12 16:24:23 INFO mlflow.models.evaluation.default_evaluator: Evaluating candidate model:\n",
      "\n",
      "2023/12/12 16:24:23 INFO mlflow.models.evaluation.default_evaluator: Computing model predictions.\n",
      "\n",
      "2023/12/12 16:24:23 INFO mlflow.models.evaluation.default_evaluator: The evaluation dataset is inferred as binary dataset, positive label is 1, negative label is 0.\n",
      "\n",
      "2023/12/12 16:24:23 INFO mlflow.models.evaluation.default_evaluator: Testing metrics on first row...\n",
      "\n",
      "2023/12/12 16:24:25 INFO mlflow.models.evaluation.default_evaluator: Shap explainer LinearExplainer is used.\n",
      "\n",
      "Unable to serialize underlying model using MLflow, will use SHAP serialization\n",
      "\n",
      "2023/12/12 16:24:25 WARNING mlflow.models.evaluation.default_evaluator: Logging explainer failed. Reason: AttributeError(\"'LogisticRegression' object has no attribute 'save'\"). Set logging level to DEBUG to see the full traceback.\n",
      "\n",
      "2023/12/12 16:24:28 INFO mlflow.models.evaluation.default_evaluator: Evaluating baseline model:\n",
      "\n",
      "2023/12/12 16:24:28 INFO mlflow.models.evaluation.default_evaluator: Computing model predictions.\n",
      "\n",
      "2023/12/12 16:24:28 INFO mlflow.models.evaluation.default_evaluator: The evaluation dataset is inferred as binary dataset, positive label is 1, negative label is 0.\n",
      "\n",
      "2023/12/12 16:24:28 INFO mlflow.models.evaluation.default_evaluator: Testing metrics on first row...\n",
      "\n",
      "2023/12/12 16:24:28 INFO mlflow.models.evaluation.base: Validating generated model metrics\n",
      "\n",
      "2023/12/12 16:24:28 INFO mlflow.models.evaluation.base: Model validation passed!\n",
      "\n"
     ]
    },
    {
     "name": "stdout",
     "output_type": "stream",
     "text": [
      "100%|██████████| 5/5 [01:18<00:00, 15.74s/trial, best loss: -0.8473503072839479]\n"
     ]
    }
   ],
   "source": [
    "best_result = fmin(fn=objective, space=search_space, algo=tpe.suggest, max_evals=5)"
   ]
  },
  {
   "cell_type": "code",
   "execution_count": null,
   "metadata": {},
   "outputs": [],
   "source": []
  }
 ],
 "metadata": {
  "kernelspec": {
   "display_name": "evn",
   "language": "python",
   "name": "python3"
  },
  "language_info": {
   "codemirror_mode": {
    "name": "ipython",
    "version": 3
   },
   "file_extension": ".py",
   "mimetype": "text/x-python",
   "name": "python",
   "nbconvert_exporter": "python",
   "pygments_lexer": "ipython3",
   "version": "3.11.4"
  }
 },
 "nbformat": 4,
 "nbformat_minor": 2
}
