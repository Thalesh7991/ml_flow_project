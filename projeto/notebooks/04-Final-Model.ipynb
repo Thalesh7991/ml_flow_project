{
 "cells": [
  {
   "cell_type": "markdown",
   "metadata": {},
   "source": [
    "# Imports"
   ]
  },
  {
   "cell_type": "code",
   "execution_count": 1,
   "metadata": {},
   "outputs": [
    {
     "name": "stderr",
     "output_type": "stream",
     "text": [
      "c:\\Users\\thale\\Documents\\Projetos_DS\\ml_flow\\evn\\Lib\\site-packages\\pydantic\\_internal\\_fields.py:149: UserWarning: Field \"model_server_url\" has conflict with protected namespace \"model_\".\n",
      "\n",
      "You may be able to resolve this warning by setting `model_config['protected_namespaces'] = ()`.\n",
      "  warnings.warn(\n",
      "c:\\Users\\thale\\Documents\\Projetos_DS\\ml_flow\\evn\\Lib\\site-packages\\pydantic\\_internal\\_config.py:318: UserWarning: Valid config keys have changed in V2:\n",
      "* 'schema_extra' has been renamed to 'json_schema_extra'\n",
      "  warnings.warn(message, UserWarning)\n"
     ]
    }
   ],
   "source": [
    "import sys\n",
    "import pandas as pd\n",
    "import joblib\n",
    "sys.path.insert(0, '../src/')\n",
    "\n",
    "from data.data_load import DataLoad\n",
    "from data.data_validation import DataValidation\n",
    "from data.data_transformation import DataTransformation\n",
    "from data.data_preprocess import DataPreprocess\n",
    "from utils.utils import load_config_file\n",
    "from train.train_model import TrainModel\n",
    "from evaluation.classifiers_eval import ModelEvaluation"
   ]
  },
  {
   "cell_type": "markdown",
   "metadata": {},
   "source": [
    "# Data Load"
   ]
  },
  {
   "cell_type": "code",
   "execution_count": 2,
   "metadata": {},
   "outputs": [],
   "source": [
    "dl = DataLoad()"
   ]
  },
  {
   "cell_type": "code",
   "execution_count": 3,
   "metadata": {},
   "outputs": [
    {
     "name": "stdout",
     "output_type": "stream",
     "text": [
      "2023-12-18 08:33:22 [info     ] Iniciando o carregamento\n"
     ]
    }
   ],
   "source": [
    "df = dl.load_data('train_dataset_name')"
   ]
  },
  {
   "cell_type": "markdown",
   "metadata": {},
   "source": [
    "# Data Validation"
   ]
  },
  {
   "cell_type": "code",
   "execution_count": 4,
   "metadata": {},
   "outputs": [],
   "source": [
    "dv = DataValidation()"
   ]
  },
  {
   "cell_type": "code",
   "execution_count": 5,
   "metadata": {},
   "outputs": [
    {
     "name": "stdout",
     "output_type": "stream",
     "text": [
      "2023-12-18 08:33:23 [info     ] Validação iniciou..\n",
      "2023-12-18 08:33:23 [info     ] Validation columns passed...\n",
      "2023-12-18 08:33:23 [info     ] Validacao com sucesso.\n"
     ]
    },
    {
     "data": {
      "text/plain": [
       "True"
      ]
     },
     "execution_count": 5,
     "metadata": {},
     "output_type": "execute_result"
    }
   ],
   "source": [
    "dv.run(df)"
   ]
  },
  {
   "cell_type": "markdown",
   "metadata": {},
   "source": [
    "# Data Transformation"
   ]
  },
  {
   "cell_type": "code",
   "execution_count": 6,
   "metadata": {},
   "outputs": [],
   "source": [
    "dt = DataTransformation(df)"
   ]
  },
  {
   "cell_type": "code",
   "execution_count": 7,
   "metadata": {},
   "outputs": [],
   "source": [
    "X_train, X_valid, y_train, y_valid = dt.train_test_split()"
   ]
  },
  {
   "cell_type": "markdown",
   "metadata": {},
   "source": [
    "# Train Models"
   ]
  },
  {
   "cell_type": "code",
   "execution_count": 8,
   "metadata": {},
   "outputs": [],
   "source": [
    "tm = TrainModel(X_train, y_train)"
   ]
  },
  {
   "cell_type": "code",
   "execution_count": 9,
   "metadata": {},
   "outputs": [
    {
     "name": "stdout",
     "output_type": "stream",
     "text": [
      "2023-12-18 08:33:24 [info     ] Obtendo melhor modelo..\n",
      "Index(['run_id', 'experiment_id', 'status', 'artifact_uri', 'start_time',\n",
      "       'end_time', 'metrics.log_loss', 'metrics.example_count',\n",
      "       'metrics.f1_score', 'metrics.roc_auc', 'metrics.valid_roc_auc',\n",
      "       'metrics.train_roc_auc', 'metrics.false_negatives',\n",
      "       'metrics.false_positives', 'metrics.recall_score', 'metrics.score',\n",
      "       'metrics.accuracy_score', 'metrics.precision_score',\n",
      "       'metrics.true_negatives', 'metrics.precision_recall_auc',\n",
      "       'metrics.true_positives', 'params.C', 'params.fit_intercept',\n",
      "       'params.tol', 'params.warm_start', 'params.multi_class',\n",
      "       'params.scaler', 'params.imputer', 'params.solver',\n",
      "       'params.class_weight', 'params.discretizer', 'params.max_iter',\n",
      "       'tags.mlflow.source.type', 'tags.mlflow.source.name',\n",
      "       'tags.mlflow.user', 'tags.mlflow.log-model.history', 'tags.model_name',\n",
      "       'tags.mlflow.datasets', 'tags.mlflow.runName'],\n",
      "      dtype='object')\n",
      "2023-12-18 08:33:24 [info     ] Iniciando o treinamento do modelo: modelo.joblib\n",
      "auto\n"
     ]
    },
    {
     "ename": "NameError",
     "evalue": "name 'lbfgs' is not defined",
     "output_type": "error",
     "traceback": [
      "\u001b[1;31m---------------------------------------------------------------------------\u001b[0m",
      "\u001b[1;31mNameError\u001b[0m                                 Traceback (most recent call last)",
      "Cell \u001b[1;32mIn[9], line 1\u001b[0m\n\u001b[1;32m----> 1\u001b[0m \u001b[43mtm\u001b[49m\u001b[38;5;241;43m.\u001b[39;49m\u001b[43mrun\u001b[49m\u001b[43m(\u001b[49m\u001b[43m)\u001b[49m\n",
      "File \u001b[1;32mc:\\Users\\thale\\Documents\\Projetos_DS\\ml_flow\\ml_flow_project\\projeto\\notebooks\\../src\\train\\train_model.py:57\u001b[0m, in \u001b[0;36mTrainModel.run\u001b[1;34m(self)\u001b[0m\n\u001b[0;32m     53\u001b[0m mlflow\u001b[38;5;241m.\u001b[39mset_tag(\u001b[38;5;124m'\u001b[39m\u001b[38;5;124mmodel_name\u001b[39m\u001b[38;5;124m'\u001b[39m, \u001b[38;5;28mself\u001b[39m\u001b[38;5;241m.\u001b[39mmodel_name)\n\u001b[0;32m     54\u001b[0m \u001b[38;5;28mprint\u001b[39m(df_best_params[\u001b[38;5;124m'\u001b[39m\u001b[38;5;124mparams.multi_class\u001b[39m\u001b[38;5;124m'\u001b[39m]\u001b[38;5;241m.\u001b[39mvalues[\u001b[38;5;241m0\u001b[39m])\n\u001b[0;32m     55\u001b[0m model \u001b[38;5;241m=\u001b[39m LogisticRegression(warm_start\u001b[38;5;241m=\u001b[39m\u001b[38;5;28meval\u001b[39m(df_best_params[\u001b[38;5;124m'\u001b[39m\u001b[38;5;124mparams.warm_start\u001b[39m\u001b[38;5;124m'\u001b[39m]\u001b[38;5;241m.\u001b[39mvalues[\u001b[38;5;241m0\u001b[39m]),\n\u001b[0;32m     56\u001b[0m                            multi_class\u001b[38;5;241m=\u001b[39mdf_best_params[\u001b[38;5;124m'\u001b[39m\u001b[38;5;124mparams.multi_class\u001b[39m\u001b[38;5;124m'\u001b[39m]\u001b[38;5;241m.\u001b[39mvalues[\u001b[38;5;241m0\u001b[39m],\n\u001b[1;32m---> 57\u001b[0m                            solver\u001b[38;5;241m=\u001b[39m\u001b[38;5;28;43meval\u001b[39;49m\u001b[43m(\u001b[49m\u001b[43mdf_best_params\u001b[49m\u001b[43m[\u001b[49m\u001b[38;5;124;43m'\u001b[39;49m\u001b[38;5;124;43mparams.solver\u001b[39;49m\u001b[38;5;124;43m'\u001b[39;49m\u001b[43m]\u001b[49m\u001b[38;5;241;43m.\u001b[39;49m\u001b[43mvalues\u001b[49m\u001b[43m[\u001b[49m\u001b[38;5;241;43m0\u001b[39;49m\u001b[43m]\u001b[49m\u001b[43m)\u001b[49m,\n\u001b[0;32m     58\u001b[0m                            tol\u001b[38;5;241m=\u001b[39m\u001b[38;5;28meval\u001b[39m(df_best_params[\u001b[38;5;124m'\u001b[39m\u001b[38;5;124mparams.tol\u001b[39m\u001b[38;5;124m'\u001b[39m]\u001b[38;5;241m.\u001b[39mvalues[\u001b[38;5;241m0\u001b[39m]),\n\u001b[0;32m     59\u001b[0m                             fit_intercept\u001b[38;5;241m=\u001b[39m\u001b[38;5;28meval\u001b[39m(df_best_params[\u001b[38;5;124m'\u001b[39m\u001b[38;5;124mparams.fit_intercept\u001b[39m\u001b[38;5;124m'\u001b[39m]\u001b[38;5;241m.\u001b[39mvalues[\u001b[38;5;241m0\u001b[39m]),\n\u001b[0;32m     60\u001b[0m                             C\u001b[38;5;241m=\u001b[39m\u001b[38;5;28meval\u001b[39m(df_best_params[\u001b[38;5;124m'\u001b[39m\u001b[38;5;124mparams.C\u001b[39m\u001b[38;5;124m'\u001b[39m]\u001b[38;5;241m.\u001b[39mvalues[\u001b[38;5;241m0\u001b[39m]),\n\u001b[0;32m     61\u001b[0m                             max_iter\u001b[38;5;241m=\u001b[39m\u001b[38;5;28meval\u001b[39m(df_best_params[\u001b[38;5;124m'\u001b[39m\u001b[38;5;124mparams.max_iter\u001b[39m\u001b[38;5;124m'\u001b[39m]\u001b[38;5;241m.\u001b[39mvalues[\u001b[38;5;241m0\u001b[39m]),\n\u001b[0;32m     62\u001b[0m                             class_weight\u001b[38;5;241m=\u001b[39m\u001b[38;5;28meval\u001b[39m(df_best_params[\u001b[38;5;124m'\u001b[39m\u001b[38;5;124mparams.class_wight\u001b[39m\u001b[38;5;124m'\u001b[39m]\u001b[38;5;241m.\u001b[39mvalues[\u001b[38;5;241m0\u001b[39m]) )\n\u001b[0;32m     64\u001b[0m pipe \u001b[38;5;241m=\u001b[39m Pipeline([\n\u001b[0;32m     65\u001b[0m     (\u001b[38;5;124m'\u001b[39m\u001b[38;5;124mimputer\u001b[39m\u001b[38;5;124m'\u001b[39m, \u001b[38;5;28meval\u001b[39m(df_best_params[\u001b[38;5;124m'\u001b[39m\u001b[38;5;124mparams.imputer\u001b[39m\u001b[38;5;124m'\u001b[39m]\u001b[38;5;241m.\u001b[39mvalues[\u001b[38;5;241m0\u001b[39m])),\n\u001b[0;32m     66\u001b[0m     (\u001b[38;5;124m'\u001b[39m\u001b[38;5;124mdiscretizer\u001b[39m\u001b[38;5;124m'\u001b[39m, \u001b[38;5;28meval\u001b[39m(df_best_params[\u001b[38;5;124m'\u001b[39m\u001b[38;5;124mparams.discretizer\u001b[39m\u001b[38;5;124m'\u001b[39m]\u001b[38;5;241m.\u001b[39mvalues[\u001b[38;5;241m0\u001b[39m])),\n\u001b[0;32m     67\u001b[0m     (\u001b[38;5;124m'\u001b[39m\u001b[38;5;124mscaler\u001b[39m\u001b[38;5;124m'\u001b[39m, \u001b[38;5;28meval\u001b[39m(df_best_params[\u001b[38;5;124m'\u001b[39m\u001b[38;5;124mparams.discretizer\u001b[39m\u001b[38;5;124m'\u001b[39m]\u001b[38;5;241m.\u001b[39mvalues[\u001b[38;5;241m0\u001b[39m]))\n\u001b[0;32m     68\u001b[0m ])\n\u001b[0;32m     70\u001b[0m pipe\u001b[38;5;241m.\u001b[39mfit(\u001b[38;5;28mself\u001b[39m\u001b[38;5;241m.\u001b[39mdados_X, \u001b[38;5;28mself\u001b[39m\u001b[38;5;241m.\u001b[39mdados_y)\n",
      "File \u001b[1;32m<string>:1\u001b[0m\n",
      "\u001b[1;31mNameError\u001b[0m: name 'lbfgs' is not defined"
     ]
    }
   ],
   "source": [
    "tm.run()"
   ]
  },
  {
   "cell_type": "code",
   "execution_count": null,
   "metadata": {},
   "outputs": [],
   "source": []
  },
  {
   "cell_type": "code",
   "execution_count": null,
   "metadata": {},
   "outputs": [],
   "source": []
  },
  {
   "cell_type": "code",
   "execution_count": null,
   "metadata": {},
   "outputs": [],
   "source": []
  }
 ],
 "metadata": {
  "kernelspec": {
   "display_name": "evn",
   "language": "python",
   "name": "python3"
  },
  "language_info": {
   "codemirror_mode": {
    "name": "ipython",
    "version": 3
   },
   "file_extension": ".py",
   "mimetype": "text/x-python",
   "name": "python",
   "nbconvert_exporter": "python",
   "pygments_lexer": "ipython3",
   "version": "3.11.4"
  }
 },
 "nbformat": 4,
 "nbformat_minor": 2
}
