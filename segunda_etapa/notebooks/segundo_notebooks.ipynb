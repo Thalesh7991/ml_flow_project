{
 "cells": [
  {
   "cell_type": "markdown",
   "metadata": {},
   "source": [
    "# Imports"
   ]
  },
  {
   "cell_type": "code",
   "execution_count": 19,
   "metadata": {},
   "outputs": [],
   "source": [
    "import pandas as pd\n",
    "import pandera\n",
    "\n",
    "\n",
    "from sklearn.model_selection import train_test_split\n",
    "from pandera import Check, Column, DataFrameSchema\n",
    "from sklearn.pipeline import Pipeline\n",
    "from feature_engine.discretisation import EqualFrequencyDiscretiser, EqualWidthDiscretiser\n",
    "from feature_engine.imputation import MeanMedianImputer\n",
    "from feature_engine.wrappers import SklearnTransformerWrapper\n",
    "from sklearn.preprocessing import RobustScaler, StandardScaler\n",
    "from sklearn.metrics import roc_auc_score\n",
    "from sklearn.linear_model import LogisticRegression"
   ]
  },
  {
   "cell_type": "markdown",
   "metadata": {},
   "source": [
    "# Utils"
   ]
  },
  {
   "cell_type": "code",
   "execution_count": 12,
   "metadata": {},
   "outputs": [],
   "source": [
    "columns_to_use = ['target', 'TaxaDeUtilizacaoDeLinhasNaoGarantidas', 'Idade',\n",
    "       'NumeroDeVezes30-59DiasAtrasoNaoPior', 'TaxaDeEndividamento',\n",
    "       'RendaMensal', 'NumeroDeLinhasDeCreditoEEmprestimosAbertos',\n",
    "       'NumeroDeVezes90DiasAtraso', 'NumeroDeEmprestimosOuLinhasImobiliarias',\n",
    "       'NumeroDeVezes60-89DiasAtrasoNaoPior', 'NumeroDeDependentes']\n",
    "\n",
    "class DataLoad:\n",
    "\n",
    "    def __init__(self) -> None:\n",
    "        pass\n",
    "\n",
    "    def load_data(self) -> pd.DataFrame:\n",
    "        \"\"\"Essa função retorna um dataframe\"\"\"\n",
    "\n",
    "        df = pd.read_csv('../data/train.csv')\n",
    "        return df"
   ]
  },
  {
   "cell_type": "markdown",
   "metadata": {},
   "source": [
    "# Data Load"
   ]
  },
  {
   "cell_type": "code",
   "execution_count": 7,
   "metadata": {},
   "outputs": [],
   "source": [
    "dl = DataLoad()"
   ]
  },
  {
   "cell_type": "code",
   "execution_count": 13,
   "metadata": {},
   "outputs": [],
   "source": [
    "df = dl.load_data()[columns_to_use]"
   ]
  },
  {
   "cell_type": "markdown",
   "metadata": {},
   "source": [
    "# 2.0 Data Validation"
   ]
  },
  {
   "cell_type": "code",
   "execution_count": 20,
   "metadata": {},
   "outputs": [],
   "source": [
    "class DataValidation:\n",
    "    def __init__(self, columns_to_use) -> None:\n",
    "        self.columns_to_use = columns_to_use\n",
    "\n",
    "    def check_shape_data(self, dataframe: pd.DataFrame)-> bool:\n",
    "        try:\n",
    "            print('Validação iniciou..')\n",
    "            dataframe.columns = self.columns_to_use\n",
    "            return True\n",
    "        except Exception as e:\n",
    "            print(f'Validação errou: {e}')\n",
    "            return False\n",
    "    \n",
    "    def check_columns(self,dataframe: pd.DataFrame)-> bool:\n",
    "        schema = DataFrameSchema(\n",
    "                {\n",
    "                    \"target\": Column(int, Check.isin([0, 1]), Check(lambda x: x > 0), coerce=True),\n",
    "                    \"TaxaDeUtilizacaoDeLinhasNaoGarantidas\": Column(float, nullable=True),\n",
    "                    \"Idade\": Column(int, nullable=True),\n",
    "                    \"NumeroDeVezes30-59DiasAtrasoNaoPior\": Column(int, nullable=True),\n",
    "                    \"TaxaDeEndividamento\": Column(float, nullable=True),\n",
    "                    \"RendaMensal\": Column(float, nullable=True),\n",
    "                    \"NumeroDeLinhasDeCreditoEEmprestimosAbertos\": Column(int, nullable=True),\n",
    "                    \"NumeroDeVezes90DiasAtraso\": Column(int, nullable=True),\n",
    "                    \"NumeroDeEmprestimosOuLinhasImobiliarias\": Column(int, nullable=True),\n",
    "                    \"NumeroDeVezes60-89DiasAtrasoNaoPior\": Column(int, nullable=True),\n",
    "                    \"NumeroDeDependentes\": Column(float, nullable=True)\n",
    "                }\n",
    "            )\n",
    "        try:\n",
    "            schema.validate(dataframe)\n",
    "            print(\"Validation columns passed...\")\n",
    "            return True\n",
    "        except pandera.errors.SchemaErrors as exc:\n",
    "            print(\"Validation columns failed...\")\n",
    "            pandera.display(exc.failure_cases)\n",
    "        return False\n",
    "    \n",
    "    def run(self, dataframe: pd.DataFrame) -> bool:\n",
    "        if self.check_shape_data(dataframe) and self.check_columns(dataframe):\n",
    "            print('Validacao com sucesso.')\n",
    "            return True \n",
    "        else:\n",
    "            print('Validacao falhou.')\n",
    "            return False\n",
    "\n"
   ]
  },
  {
   "cell_type": "code",
   "execution_count": 22,
   "metadata": {},
   "outputs": [],
   "source": [
    "dv = DataValidation(columns_to_use)"
   ]
  },
  {
   "cell_type": "code",
   "execution_count": 25,
   "metadata": {},
   "outputs": [
    {
     "name": "stdout",
     "output_type": "stream",
     "text": [
      "Validação iniciou..\n",
      "Validation columns passed...\n",
      "Validacao com sucesso.\n"
     ]
    },
    {
     "data": {
      "text/plain": [
       "True"
      ]
     },
     "execution_count": 25,
     "metadata": {},
     "output_type": "execute_result"
    }
   ],
   "source": [
    "dv.run(df)"
   ]
  }
 ],
 "metadata": {
  "kernelspec": {
   "display_name": "evn",
   "language": "python",
   "name": "python3"
  },
  "language_info": {
   "codemirror_mode": {
    "name": "ipython",
    "version": 3
   },
   "file_extension": ".py",
   "mimetype": "text/x-python",
   "name": "python",
   "nbconvert_exporter": "python",
   "pygments_lexer": "ipython3",
   "version": "3.11.4"
  }
 },
 "nbformat": 4,
 "nbformat_minor": 2
}
